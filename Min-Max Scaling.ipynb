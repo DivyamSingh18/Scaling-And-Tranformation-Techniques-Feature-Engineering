{
 "cells": [
  {
   "cell_type": "markdown",
   "id": "759f9e7f",
   "metadata": {},
   "source": [
    "## Min Max Scaling  \n",
    "Min Max Scaling scales the values between 0 to 1.<br>\n",
    "X_scaled = (X - X.min / (X.max - X.min)"
   ]
  },
  {
   "cell_type": "markdown",
   "id": "ed85c613",
   "metadata": {},
   "source": [
    "## (i) Scaling/Transforming the dataset as df "
   ]
  },
  {
   "cell_type": "code",
   "execution_count": 1,
   "id": "5d25c27c",
   "metadata": {},
   "outputs": [],
   "source": [
    "import pandas as pd\n",
    "import matplotlib.pyplot as plt\n",
    "import seaborn as sns\n",
    "%matplotlib inline"
   ]
  },
  {
   "cell_type": "code",
   "execution_count": 2,
   "id": "9cf7c64d",
   "metadata": {},
   "outputs": [],
   "source": [
    "df = pd.read_csv('titanic.csv', usecols=['Survived',\"Pclass\",\"Fare\",\"Age\"])"
   ]
  },
  {
   "cell_type": "code",
   "execution_count": 3,
   "id": "43385cce",
   "metadata": {},
   "outputs": [],
   "source": [
    "df[\"Age\"].fillna(df.Age.median(),inplace=True)"
   ]
  },
  {
   "cell_type": "code",
   "execution_count": 4,
   "id": "e811b9a0",
   "metadata": {},
   "outputs": [
    {
     "data": {
      "text/html": [
       "<div>\n",
       "<style scoped>\n",
       "    .dataframe tbody tr th:only-of-type {\n",
       "        vertical-align: middle;\n",
       "    }\n",
       "\n",
       "    .dataframe tbody tr th {\n",
       "        vertical-align: top;\n",
       "    }\n",
       "\n",
       "    .dataframe thead th {\n",
       "        text-align: right;\n",
       "    }\n",
       "</style>\n",
       "<table border=\"1\" class=\"dataframe\">\n",
       "  <thead>\n",
       "    <tr style=\"text-align: right;\">\n",
       "      <th></th>\n",
       "      <th>Survived</th>\n",
       "      <th>Pclass</th>\n",
       "      <th>Age</th>\n",
       "      <th>Fare</th>\n",
       "    </tr>\n",
       "  </thead>\n",
       "  <tbody>\n",
       "    <tr>\n",
       "      <th>0</th>\n",
       "      <td>0.0</td>\n",
       "      <td>1.0</td>\n",
       "      <td>0.271174</td>\n",
       "      <td>0.014151</td>\n",
       "    </tr>\n",
       "    <tr>\n",
       "      <th>1</th>\n",
       "      <td>1.0</td>\n",
       "      <td>0.0</td>\n",
       "      <td>0.472229</td>\n",
       "      <td>0.139136</td>\n",
       "    </tr>\n",
       "    <tr>\n",
       "      <th>2</th>\n",
       "      <td>1.0</td>\n",
       "      <td>1.0</td>\n",
       "      <td>0.321438</td>\n",
       "      <td>0.015469</td>\n",
       "    </tr>\n",
       "    <tr>\n",
       "      <th>3</th>\n",
       "      <td>1.0</td>\n",
       "      <td>0.0</td>\n",
       "      <td>0.434531</td>\n",
       "      <td>0.103644</td>\n",
       "    </tr>\n",
       "    <tr>\n",
       "      <th>4</th>\n",
       "      <td>0.0</td>\n",
       "      <td>1.0</td>\n",
       "      <td>0.434531</td>\n",
       "      <td>0.015713</td>\n",
       "    </tr>\n",
       "  </tbody>\n",
       "</table>\n",
       "</div>"
      ],
      "text/plain": [
       "   Survived  Pclass       Age      Fare\n",
       "0       0.0     1.0  0.271174  0.014151\n",
       "1       1.0     0.0  0.472229  0.139136\n",
       "2       1.0     1.0  0.321438  0.015469\n",
       "3       1.0     0.0  0.434531  0.103644\n",
       "4       0.0     1.0  0.434531  0.015713"
      ]
     },
     "execution_count": 4,
     "metadata": {},
     "output_type": "execute_result"
    }
   ],
   "source": [
    "from sklearn.preprocessing import MinMaxScaler\n",
    "min_max=MinMaxScaler()\n",
    "\n",
    "df_minmax=pd.DataFrame(min_max.fit_transform(df),columns=df.columns)\n",
    "df_minmax.head()"
   ]
  },
  {
   "cell_type": "code",
   "execution_count": 5,
   "id": "e608cf7a",
   "metadata": {},
   "outputs": [
    {
     "data": {
      "text/plain": [
       "Text(0.5, 1.0, 'Before MinMax Scaling')"
      ]
     },
     "execution_count": 5,
     "metadata": {},
     "output_type": "execute_result"
    },
    {
     "data": {
      "image/png": "[encoded data removed]",
      "text/plain": [
       "<Figure size 432x288 with 1 Axes>"
      ]
     },
     "metadata": {
      "needs_background": "light"
     },
     "output_type": "display_data"
    }
   ],
   "source": [
    "plt.hist(df['Pclass'],bins=20)\n",
    "plt.title(\"Before MinMax Scaling\")"
   ]
  },
  {
   "cell_type": "code",
   "execution_count": 6,
   "id": "a5aac3af",
   "metadata": {},
   "outputs": [
    {
     "data": {
      "text/plain": [
       "Text(0.5, 1.0, 'After MinMax Scaling')"
      ]
     },
     "execution_count": 6,
     "metadata": {},
     "output_type": "execute_result"
    },
    {
     "data": {
      "image/png": "[encoded data removed]",
      "text/plain": [
       "<Figure size 432x288 with 1 Axes>"
      ]
     },
     "metadata": {
      "needs_background": "light"
     },
     "output_type": "display_data"
    }
   ],
   "source": [
    "plt.hist(df_minmax['Pclass'],bins=20)\n",
    "plt.title(\"After MinMax Scaling\")"
   ]
  },
  {
   "cell_type": "code",
   "execution_count": 7,
   "id": "9763110b",
   "metadata": {},
   "outputs": [
    {
     "data": {
      "text/plain": [
       "Text(0.5, 1.0, 'Before MinMax Scaling')"
      ]
     },
     "execution_count": 7,
     "metadata": {},
     "output_type": "execute_result"
    },
    {
     "data": {
      "image/png": "[encoded data removed]",
      "text/plain": [
       "<Figure size 432x288 with 1 Axes>"
      ]
     },
     "metadata": {
      "needs_background": "light"
     },
     "output_type": "display_data"
    }
   ],
   "source": [
    "plt.hist(df['Age'],bins=20, color='m')\n",
    "plt.title(\"Before MinMax Scaling\")"
   ]
  },
  {
   "cell_type": "code",
   "execution_count": 8,
   "id": "e26ca36d",
   "metadata": {},
   "outputs": [
    {
     "data": {
      "text/plain": [
       "Text(0.5, 1.0, 'After MinMax Scaling')"
      ]
     },
     "execution_count": 8,
     "metadata": {},
     "output_type": "execute_result"
    },
    {
     "data": {
      "image/png": "[encoded data removed]",
      "text/plain": [
       "<Figure size 432x288 with 1 Axes>"
      ]
     },
     "metadata": {
      "needs_background": "light"
     },
     "output_type": "display_data"
    }
   ],
   "source": [
    "plt.hist(df_minmax['Age'],bins=20,color='m')\n",
    "plt.title(\"After MinMax Scaling\")"
   ]
  },
  {
   "cell_type": "code",
   "execution_count": 9,
   "id": "e648d810",
   "metadata": {},
   "outputs": [
    {
     "data": {
      "text/plain": [
       "Text(0.5, 1.0, 'Before MinMax Scaling')"
      ]
     },
     "execution_count": 9,
     "metadata": {},
     "output_type": "execute_result"
    },
    {
     "data": {
      "image/png": "[encoded data removed]",
      "text/plain": [
       "<Figure size 432x288 with 1 Axes>"
      ]
     },
     "metadata": {
      "needs_background": "light"
     },
     "output_type": "display_data"
    }
   ],
   "source": [
    "plt.hist(df['Fare'],bins=20,color='crimson')\n",
    "plt.title(\"Before MinMax Scaling\")"
   ]
  },
  {
   "cell_type": "code",
   "execution_count": 10,
   "id": "fc50664a",
   "metadata": {},
   "outputs": [
    {
     "data": {
      "text/plain": [
       "Text(0.5, 1.0, 'After MinMax Scaling')"
      ]
     },
     "execution_count": 10,
     "metadata": {},
     "output_type": "execute_result"
    },
    {
     "data": {
      "image/png": "[encoded data removed]",
      "text/plain": [
       "<Figure size 432x288 with 1 Axes>"
      ]
     },
     "metadata": {
      "needs_background": "light"
     },
     "output_type": "display_data"
    }
   ],
   "source": [
    "plt.hist(df_minmax['Fare'],bins=20,color='crimson')\n",
    "plt.title(\"After MinMax Scaling\")"
   ]
  },
  {
   "cell_type": "markdown",
   "id": "9c28f8c9",
   "metadata": {},
   "source": [
    "## (ii) Scaling/Transforming the dataset by splitting for making model "
   ]
  },
  {
   "cell_type": "code",
   "execution_count": 11,
   "id": "079f7fa8",
   "metadata": {},
   "outputs": [],
   "source": [
    "#Separating the independent and dependent features\n",
    "x=df.iloc[:,1:] # independent\n",
    "y=df.iloc[:,0]  # dependent"
   ]
  },
  {
   "cell_type": "code",
   "execution_count": 12,
   "id": "38c543c6",
   "metadata": {},
   "outputs": [
    {
     "data": {
      "text/html": [
       "<div>\n",
       "<style scoped>\n",
       "    .dataframe tbody tr th:only-of-type {\n",
       "        vertical-align: middle;\n",
       "    }\n",
       "\n",
       "    .dataframe tbody tr th {\n",
       "        vertical-align: top;\n",
       "    }\n",
       "\n",
       "    .dataframe thead th {\n",
       "        text-align: right;\n",
       "    }\n",
       "</style>\n",
       "<table border=\"1\" class=\"dataframe\">\n",
       "  <thead>\n",
       "    <tr style=\"text-align: right;\">\n",
       "      <th></th>\n",
       "      <th>Pclass</th>\n",
       "      <th>Age</th>\n",
       "      <th>Fare</th>\n",
       "    </tr>\n",
       "  </thead>\n",
       "  <tbody>\n",
       "    <tr>\n",
       "      <th>0</th>\n",
       "      <td>3</td>\n",
       "      <td>22.0</td>\n",
       "      <td>7.2500</td>\n",
       "    </tr>\n",
       "    <tr>\n",
       "      <th>1</th>\n",
       "      <td>1</td>\n",
       "      <td>38.0</td>\n",
       "      <td>71.2833</td>\n",
       "    </tr>\n",
       "    <tr>\n",
       "      <th>2</th>\n",
       "      <td>3</td>\n",
       "      <td>26.0</td>\n",
       "      <td>7.9250</td>\n",
       "    </tr>\n",
       "    <tr>\n",
       "      <th>3</th>\n",
       "      <td>1</td>\n",
       "      <td>35.0</td>\n",
       "      <td>53.1000</td>\n",
       "    </tr>\n",
       "    <tr>\n",
       "      <th>4</th>\n",
       "      <td>3</td>\n",
       "      <td>35.0</td>\n",
       "      <td>8.0500</td>\n",
       "    </tr>\n",
       "    <tr>\n",
       "      <th>...</th>\n",
       "      <td>...</td>\n",
       "      <td>...</td>\n",
       "      <td>...</td>\n",
       "    </tr>\n",
       "    <tr>\n",
       "      <th>886</th>\n",
       "      <td>2</td>\n",
       "      <td>27.0</td>\n",
       "      <td>13.0000</td>\n",
       "    </tr>\n",
       "    <tr>\n",
       "      <th>887</th>\n",
       "      <td>1</td>\n",
       "      <td>19.0</td>\n",
       "      <td>30.0000</td>\n",
       "    </tr>\n",
       "    <tr>\n",
       "      <th>888</th>\n",
       "      <td>3</td>\n",
       "      <td>28.0</td>\n",
       "      <td>23.4500</td>\n",
       "    </tr>\n",
       "    <tr>\n",
       "      <th>889</th>\n",
       "      <td>1</td>\n",
       "      <td>26.0</td>\n",
       "      <td>30.0000</td>\n",
       "    </tr>\n",
       "    <tr>\n",
       "      <th>890</th>\n",
       "      <td>3</td>\n",
       "      <td>32.0</td>\n",
       "      <td>7.7500</td>\n",
       "    </tr>\n",
       "  </tbody>\n",
       "</table>\n",
       "<p>891 rows × 3 columns</p>\n",
       "</div>"
      ],
      "text/plain": [
       "     Pclass   Age     Fare\n",
       "0         3  22.0   7.2500\n",
       "1         1  38.0  71.2833\n",
       "2         3  26.0   7.9250\n",
       "3         1  35.0  53.1000\n",
       "4         3  35.0   8.0500\n",
       "..      ...   ...      ...\n",
       "886       2  27.0  13.0000\n",
       "887       1  19.0  30.0000\n",
       "888       3  28.0  23.4500\n",
       "889       1  26.0  30.0000\n",
       "890       3  32.0   7.7500\n",
       "\n",
       "[891 rows x 3 columns]"
      ]
     },
     "execution_count": 12,
     "metadata": {},
     "output_type": "execute_result"
    }
   ],
   "source": [
    "x"
   ]
  },
  {
   "cell_type": "code",
   "execution_count": 13,
   "id": "3e021d06",
   "metadata": {},
   "outputs": [
    {
     "data": {
      "text/plain": [
       "0      0\n",
       "1      1\n",
       "2      1\n",
       "3      1\n",
       "4      0\n",
       "      ..\n",
       "886    0\n",
       "887    1\n",
       "888    0\n",
       "889    1\n",
       "890    0\n",
       "Name: Survived, Length: 891, dtype: int64"
      ]
     },
     "execution_count": 13,
     "metadata": {},
     "output_type": "execute_result"
    }
   ],
   "source": [
    "y"
   ]
  },
  {
   "cell_type": "code",
   "execution_count": 14,
   "id": "3752c587",
   "metadata": {},
   "outputs": [],
   "source": [
    "from sklearn.model_selection import train_test_split  # creating model\n",
    "x_train, x_test, y_train, y_test = train_test_split(x, y, test_size=0.33, random_state=42)"
   ]
  },
  {
   "cell_type": "code",
   "execution_count": 15,
   "id": "c8b9164c",
   "metadata": {},
   "outputs": [
    {
     "data": {
      "text/html": [
       "<div>\n",
       "<style scoped>\n",
       "    .dataframe tbody tr th:only-of-type {\n",
       "        vertical-align: middle;\n",
       "    }\n",
       "\n",
       "    .dataframe tbody tr th {\n",
       "        vertical-align: top;\n",
       "    }\n",
       "\n",
       "    .dataframe thead th {\n",
       "        text-align: right;\n",
       "    }\n",
       "</style>\n",
       "<table border=\"1\" class=\"dataframe\">\n",
       "  <thead>\n",
       "    <tr style=\"text-align: right;\">\n",
       "      <th></th>\n",
       "      <th>Pclass</th>\n",
       "      <th>Age</th>\n",
       "      <th>Fare</th>\n",
       "    </tr>\n",
       "  </thead>\n",
       "  <tbody>\n",
       "    <tr>\n",
       "      <th>0</th>\n",
       "      <td>0.0</td>\n",
       "      <td>0.673285</td>\n",
       "      <td>0.101229</td>\n",
       "    </tr>\n",
       "    <tr>\n",
       "      <th>1</th>\n",
       "      <td>1.0</td>\n",
       "      <td>0.346569</td>\n",
       "      <td>0.030254</td>\n",
       "    </tr>\n",
       "    <tr>\n",
       "      <th>2</th>\n",
       "      <td>0.5</td>\n",
       "      <td>0.308872</td>\n",
       "      <td>0.081157</td>\n",
       "    </tr>\n",
       "    <tr>\n",
       "      <th>3</th>\n",
       "      <td>1.0</td>\n",
       "      <td>0.321438</td>\n",
       "      <td>0.028213</td>\n",
       "    </tr>\n",
       "    <tr>\n",
       "      <th>4</th>\n",
       "      <td>1.0</td>\n",
       "      <td>0.271174</td>\n",
       "      <td>0.020527</td>\n",
       "    </tr>\n",
       "  </tbody>\n",
       "</table>\n",
       "</div>"
      ],
      "text/plain": [
       "   Pclass       Age      Fare\n",
       "0     0.0  0.673285  0.101229\n",
       "1     1.0  0.346569  0.030254\n",
       "2     0.5  0.308872  0.081157\n",
       "3     1.0  0.321438  0.028213\n",
       "4     1.0  0.271174  0.020527"
      ]
     },
     "execution_count": 15,
     "metadata": {},
     "output_type": "execute_result"
    }
   ],
   "source": [
    "from sklearn.preprocessing import MinMaxScaler\n",
    "min_max = MinMaxScaler()\n",
    "\n",
    "x_train_minmax = pd.DataFrame(min_max.fit_transform(x_train), columns=[\"Pclass\",'Age','Fare'])\n",
    "x_train_minmax.head()"
   ]
  },
  {
   "cell_type": "code",
   "execution_count": 16,
   "id": "3b97a017",
   "metadata": {},
   "outputs": [
    {
     "data": {
      "text/plain": [
       "array([[1.        , 0.34656949, 0.02975782],\n",
       "       [0.5       , 0.3842674 , 0.02049464],\n",
       "       [1.        , 0.24604172, 0.01546857],\n",
       "       [0.5       , 0.07011812, 0.06441171],\n",
       "       [1.        , 0.17064589, 0.02194234],\n",
       "       [0.        , 0.32143755, 0.15390495],\n",
       "       [1.        , 0.34656949, 0.01512699],\n",
       "       [1.        , 0.19577783, 0.03513366],\n",
       "       [1.        , 0.19577783, 0.01512699],\n",
       "       [0.        , 0.23347575, 0.05130158],\n",
       "       [0.        , 0.45966323, 0.1036443 ],\n",
       "       [1.        , 0.54762503, 0.01571255],\n",
       "       [1.        , 0.34656949, 0.04970769],\n",
       "       [1.        , 0.37170143, 0.01410226],\n",
       "       [0.5       , 0.44709726, 0.02537431],\n",
       "       [0.        , 0.19577783, 0.07690368],\n",
       "       [0.        , 0.52249309, 0.10257897],\n",
       "       [1.        , 0.34656949, 0.01528158],\n",
       "       [0.5       , 0.33400352, 0.02537431],\n",
       "       [0.        , 0.58532295, 0.10149724],\n",
       "       [1.        , 0.2963056 , 0.01541158],\n",
       "       [0.        , 0.42196532, 0.05182215],\n",
       "       [1.        , 0.23347575, 0.01533038],\n",
       "       [1.        , 0.24604172, 0.018006  ],\n",
       "       [1.        , 0.34656949, 0.02830212],\n",
       "       [1.        , 0.12038201, 0.05445717],\n",
       "       [0.        , 0.49736115, 0.0541074 ],\n",
       "       [0.5       , 0.3842674 , 0.02537431],\n",
       "       [1.        , 0.04498618, 0.05445717],\n",
       "       [1.        , 0.3842674 , 0.01533038],\n",
       "       [1.        , 0.23347575, 0.01541158],\n",
       "       [1.        , 0.27117366, 0.01512699],\n",
       "       [0.        , 0.34656949, 0.05991421],\n",
       "       [1.        , 0.34656949, 0.01473662],\n",
       "       [1.        , 0.22090978, 0.01571255],\n",
       "       [1.        , 0.33400352, 0.02821272],\n",
       "       [0.        , 0.34656949, 0.06929139],\n",
       "       [1.        , 0.34656949, 0.01512699],\n",
       "       [0.        , 0.37170143, 0.06050797],\n",
       "       [1.        , 0.34656949, 0.01541158],\n",
       "       [0.5       , 0.25860769, 0.14346245],\n",
       "       [1.        , 0.35913546, 0.01375249],\n",
       "       [1.        , 0.34656949, 0.01571255],\n",
       "       [1.        , 0.34656949, 0.01512699],\n",
       "       [1.        , 0.560191  , 0.02821272],\n",
       "       [1.        , 0.19577783, 0.06709553],\n",
       "       [1.        , 0.23347575, 0.01592394],\n",
       "       [1.        , 0.28373963, 0.018006  ],\n",
       "       [1.        , 0.2963056 , 0.01376068],\n",
       "       [0.        , 0.72354863, 0.22109808],\n",
       "       [1.        , 0.05755215, 0.0375897 ],\n",
       "       [0.        , 0.6481528 , 0.18249985],\n",
       "       [1.        , 0.49736115, 0.05445717],\n",
       "       [0.        , 0.13294798, 0.2342244 ],\n",
       "       [1.        , 0.81151043, 0.01512699],\n",
       "       [0.        , 0.22090978, 0.15546645],\n",
       "       [0.5       , 0.39683338, 0.02049464],\n",
       "       [0.        , 0.62302086, 0.48312843],\n",
       "       [0.5       , 0.43453129, 0.04098927],\n",
       "       [1.        , 0.23347575, 0.01537917],\n",
       "       [1.        , 0.25860769, 0.01517579],\n",
       "       [0.5       , 0.15807992, 0.03806147],\n",
       "       [0.5       , 0.34656949, 0.05074862],\n",
       "       [0.        , 0.34656949, 0.05060223],\n",
       "       [1.        , 0.34656949, 0.01512699],\n",
       "       [0.5       , 0.71098266, 0.02049464],\n",
       "       [0.5       , 0.25860769, 0.14346245],\n",
       "       [1.        , 0.35913546, 0.01537098],\n",
       "       [1.        , 0.2083438 , 0.01411046],\n",
       "       [0.        , 0.6481528 , 0.15276642],\n",
       "       [0.5       , 0.32143755, 0.05074862],\n",
       "       [0.        , 0.22090978, 0.51212189],\n",
       "       [0.        , 0.32143755, 0.0585561 ],\n",
       "       [0.        , 0.48479517, 0.16231419],\n",
       "       [1.        , 0.28373963, 0.01533038],\n",
       "       [1.        , 0.44709726, 0.03035158],\n",
       "       [1.        , 0.37798442, 0.01512699],\n",
       "       [0.        , 0.27117366, 0.09661757],\n",
       "       [0.5       , 0.4722292 , 0.02537431],\n",
       "       [1.        , 0.50992712, 0.03945217],\n",
       "       [1.        , 0.19577783, 0.07746484],\n",
       "       [0.5       , 0.35913546, 0.02049464],\n",
       "       [0.        , 0.49736115, 0.26252652],\n",
       "       [1.        , 0.34656949, 0.01510259],\n",
       "       [0.        , 0.69841669, 0.05991421],\n",
       "       [0.        , 0.88690626, 0.09662576],\n",
       "       [0.        , 0.3842674 , 0.22109808],\n",
       "       [0.        , 0.37170143, 0.1111184 ],\n",
       "       [0.        , 0.4722292 , 0.        ],\n",
       "       [1.        , 0.34656949, 0.01415106],\n",
       "       [1.        , 0.10781603, 0.04006213],\n",
       "       [1.        , 0.10781603, 0.06104473],\n",
       "       [0.        , 0.76124654, 0.063086  ],\n",
       "       [1.        , 0.34656949, 0.01508639],\n",
       "       [1.        , 0.34656949, 0.01541158],\n",
       "       [1.        , 0.34656949, 0.01533038],\n",
       "       [0.        , 0.59788892, 0.10149724],\n",
       "       [1.        , 0.560191  , 0.01571255],\n",
       "       [0.5       , 0.44709726, 0.02537431],\n",
       "       [1.        , 0.33400352, 0.01541158],\n",
       "       [0.        , 0.79894446, 0.05074862],\n",
       "       [1.        , 0.43453129, 0.01390707],\n",
       "       [0.        , 0.23347575, 0.17777476],\n",
       "       [1.        , 0.4722292 , 0.01376068],\n",
       "       [1.        , 0.37798442, 0.01571255],\n",
       "       [1.        , 0.30887158, 0.01517579],\n",
       "       [0.5       , 0.49736115, 0.07612293],\n",
       "       [0.        , 0.58532295, 0.075147  ],\n",
       "       [1.        , 0.37170143, 0.01854277],\n",
       "       [0.        , 0.49736115, 0.06050797],\n",
       "       [0.        , 0.34656949, 0.10149724],\n",
       "       [1.        , 0.2523247 , 0.01415106],\n",
       "       [0.        , 0.34656949, 0.17391982],\n",
       "       [0.        , 0.44709726, 0.05130978],\n",
       "       [0.        , 0.34656949, 0.43288417],\n",
       "       [1.        , 0.24604172, 0.01921772],\n",
       "       [0.        , 0.88690626, 0.06764049],\n",
       "       [0.5       , 0.44709726, 0.02513033],\n",
       "       [0.5       , 0.27117366, 0.05660423],\n",
       "       [1.        , 0.59788892, 0.06709553],\n",
       "       [0.5       , 0.28373963, 0.02244651],\n",
       "       [0.        , 0.39683338, 0.14891148],\n",
       "       [0.        , 0.78637849, 0.15216447],\n",
       "       [0.5       , 0.00515205, 0.05660423],\n",
       "       [1.        , 0.30887158, 0.01415106],\n",
       "       [0.        , 0.43453129, 0.05182215],\n",
       "       [0.        , 0.61045489, 0.05061043],\n",
       "       [0.        , 0.2963056 , 0.1545881 ],\n",
       "       [1.        , 0.34656949, 0.02822072],\n",
       "       [1.        , 0.25860769, 0.01571255],\n",
       "       [1.        , 0.34656949, 0.01537917],\n",
       "       [1.        , 0.34656949, 0.02975782],\n",
       "       [0.5       , 0.34656949, 0.        ],\n",
       "       [1.        , 0.05755215, 0.02434958],\n",
       "       [0.        , 0.61045489, 0.1111184 ],\n",
       "       [1.        , 0.18321186, 0.02821272],\n",
       "       [0.        , 0.34656949, 0.21642979],\n",
       "       [1.        , 0.35913546, 0.01517579],\n",
       "       [1.        , 0.52249309, 0.01473662],\n",
       "       [1.        , 0.22090978, 0.03474329],\n",
       "       [1.        , 0.25860769, 0.01646071],\n",
       "       [0.5       , 0.54762503, 0.05074862],\n",
       "       [0.5       , 0.34656949, 0.02537431],\n",
       "       [0.5       , 0.45966323, 0.05074862],\n",
       "       [1.        , 0.48479517, 0.05684821],\n",
       "       [0.5       , 0.42196532, 0.06343578],\n",
       "       [0.5       , 0.37170143, 0.02537431],\n",
       "       [0.5       , 0.8240764 , 0.02049464],\n",
       "       [0.        , 0.34656949, 0.28598956],\n",
       "       [1.        , 0.53505906, 0.01571255],\n",
       "       [1.        , 0.34656949, 0.01700567],\n",
       "       [1.        , 0.2963056 , 0.01463083],\n",
       "       [1.        , 0.22090978, 0.01521639],\n",
       "       [1.        , 0.34656949, 0.04713766],\n",
       "       [1.        , 0.34656949, 0.01571255],\n",
       "       [1.        , 0.34656949, 0.01376068],\n",
       "       [1.        , 0.34656949, 0.11027246],\n",
       "       [1.        , 0.34656949, 0.01520019],\n",
       "       [0.5       , 0.44709726, 0.05074862],\n",
       "       [1.        , 0.39683338, 0.03025399],\n",
       "       [1.        , 0.29002262, 0.01411046],\n",
       "       [0.        , 0.34656949, 0.05182215],\n",
       "       [0.5       , 0.48479517, 0.02537431],\n",
       "       [0.        , 0.34656949, 0.16038672],\n",
       "       [1.        , 0.34656949, 0.0165095 ],\n",
       "       [0.        , 0.81151043, 0.12097534],\n",
       "       [0.5       , 0.28373963, 0.02049464],\n",
       "       [0.        , 0.34656949, 0.10122886],\n",
       "       [1.        , 0.27117366, 0.01541158],\n",
       "       [1.        , 0.43453129, 0.01376068],\n",
       "       [0.        , 0.28373963, 0.12366717],\n",
       "       [0.5       , 0.22090978, 0.02537431],\n",
       "       [0.        , 0.44709726, 0.05150497],\n",
       "       [1.        , 0.10781603, 0.02975782],\n",
       "       [1.        , 0.2083438 , 0.01390707],\n",
       "       [1.        , 0.34656949, 0.01410226],\n",
       "       [1.        , 0.4722292 , 0.06126432],\n",
       "       [0.5       , 0.2083438 , 0.02049464],\n",
       "       [1.        , 0.04498618, 0.03259623],\n",
       "       [0.        , 0.56647399, 0.0556283 ],\n",
       "       [0.5       , 0.28373963, 0.02537431],\n",
       "       [1.        , 0.39683338, 0.01546857],\n",
       "       [1.        , 0.32143755, 0.01533038],\n",
       "       [1.        , 0.07011812, 0.06104473],\n",
       "       [0.        , 0.2963056 , 0.48312843],\n",
       "       [0.        , 0.560191  , 0.05182215],\n",
       "       [0.5       , 0.35913546, 0.0541074 ],\n",
       "       [1.        , 0.34656949, 0.01541158],\n",
       "       [0.        , 0.34656949, 0.06929139],\n",
       "       [0.5       , 0.52249309, 0.02537431],\n",
       "       [1.        , 0.44709726, 0.04713766],\n",
       "       [0.5       , 0.40939935, 0.0239592 ],\n",
       "       [1.        , 0.2083438 , 0.01376888],\n",
       "       [1.        , 0.35913546, 0.01854277],\n",
       "       [0.5       , 0.62302086, 0.05074862],\n",
       "       [0.        , 0.43453129, 0.1756683 ],\n",
       "       [0.        , 0.4722292 , 0.44409922],\n",
       "       [0.5       , 0.42196532, 0.02537431],\n",
       "       [0.        , 0.2083438 , 0.11125659],\n",
       "       [1.        , 0.13294798, 0.06104473],\n",
       "       [1.        , 0.76124654, 0.01217479],\n",
       "       [1.        , 0.37170143, 0.01690807],\n",
       "       [0.5       , 0.08268409, 0.05123659],\n",
       "       [1.        , 0.78637849, 0.01871355],\n",
       "       [1.        , 0.24604172, 0.01411046],\n",
       "       [1.        , 0.34656949, 0.0436405 ],\n",
       "       [1.        , 0.35913546, 0.01851017],\n",
       "       [0.        , 0.44709726, 0.2342244 ],\n",
       "       [1.        , 0.34656949, 0.02822072],\n",
       "       [1.        , 0.62302086, 0.01571255],\n",
       "       [0.        , 0.33400352, 0.41282051],\n",
       "       [1.        , 0.37170143, 0.01415106],\n",
       "       [0.        , 0.40939935, 0.1756683 ],\n",
       "       [1.        , 0.34656949, 0.0150782 ],\n",
       "       [1.        , 0.34656949, 0.04970769],\n",
       "       [1.        , 0.01985423, 0.04113566],\n",
       "       [0.5       , 0.30887158, 0.0585561 ],\n",
       "       [0.        , 0.63558683, 0.11980422],\n",
       "       [0.5       , 0.30887158, 0.05074862],\n",
       "       [1.        , 0.34656949, 0.01415106],\n",
       "       [1.        , 0.34656949, 0.01541158],\n",
       "       [0.5       , 0.2963056 , 0.02537431],\n",
       "       [1.        , 0.22090978, 0.03945217],\n",
       "       [0.        , 0.34656949, 0.05953204],\n",
       "       [1.        , 0.30887158, 0.01376068],\n",
       "       [0.5       , 0.2963056 , 0.02830212],\n",
       "       [1.        , 0.27117366, 0.01467962],\n",
       "       [0.        , 0.00628299, 0.2958059 ],\n",
       "       [0.5       , 0.2963056 , 0.05074862],\n",
       "       [1.        , 0.32143755, 0.01546857],\n",
       "       [0.5       , 0.42196532, 0.04098927],\n",
       "       [0.        , 0.25860769, 0.51212189],\n",
       "       [1.        , 0.34656949, 0.01512699],\n",
       "       [1.        , 0.34656949, 0.01411046],\n",
       "       [1.        , 0.34656949, 0.01690807],\n",
       "       [1.        , 0.27117366, 0.01517579],\n",
       "       [0.        , 0.77381252, 0.1561496 ],\n",
       "       [1.        , 0.22090978, 0.01920972],\n",
       "       [0.        , 0.52249309, 0.44409922],\n",
       "       [0.5       , 0.71098266, 0.02410559],\n",
       "       [1.        , 0.23347575, 0.        ],\n",
       "       [0.5       , 0.52249309, 0.05074862],\n",
       "       [1.        , 0.34656949, 0.01410226],\n",
       "       [1.        , 0.24604172, 0.01690807],\n",
       "       [1.        , 0.4282483 , 0.01256516],\n",
       "       [1.        , 0.34656949, 0.01854277],\n",
       "       [1.        , 0.34656949, 0.01571255],\n",
       "       [1.        , 0.28373963, 0.01541158],\n",
       "       [1.        , 0.27117366, 0.01415106],\n",
       "       [0.        , 0.6481528 , 0.05953204],\n",
       "       [1.        , 0.37170143, 0.02434958],\n",
       "       [0.5       , 0.45338025, 0.05074862],\n",
       "       [1.        , 0.34656949, 0.01512699],\n",
       "       [1.        , 0.27117366, 0.01411046],\n",
       "       [0.        , 0.62302086, 0.26086743],\n",
       "       [1.        , 0.33400352, 0.01361429],\n",
       "       [1.        , 0.27117366, 0.01571255],\n",
       "       [0.        , 0.63558683, 0.15216447],\n",
       "       [0.5       , 0.44709726, 0.02049464],\n",
       "       [0.5       , 0.35913546, 0.05074862],\n",
       "       [0.        , 0.27117366, 0.2958059 ],\n",
       "       [0.        , 0.62302086, 0.20772777],\n",
       "       [0.5       , 0.49736115, 0.02537431],\n",
       "       [1.        , 0.33400352, 0.01690807],\n",
       "       [0.        , 0.34656949, 0.        ],\n",
       "       [0.        , 0.81151043, 0.05182215],\n",
       "       [1.        , 0.2083438 , 0.01690807],\n",
       "       [0.        , 0.34656949, 0.05182215],\n",
       "       [0.        , 0.04498618, 0.15977676],\n",
       "       [1.        , 0.34656949, 0.01541158],\n",
       "       [1.        , 0.00728826, 0.02173075],\n",
       "       [0.5       , 0.44709726, 0.05416439],\n",
       "       [0.5       , 0.53505906, 0.05123659],\n",
       "       [0.        , 0.4722292 , 0.29953885],\n",
       "       [0.5       , 0.3842674 , 0.05123659],\n",
       "       [1.        , 0.35913546, 0.01571255],\n",
       "       [1.        , 0.22090978, 0.01620052],\n",
       "       [0.5       , 0.34656949, 0.02937564],\n",
       "       [0.        , 0.48479517, 0.21642979],\n",
       "       [0.5       , 0.48479517, 0.02537431],\n",
       "       [1.        , 0.32143755, 0.01690807],\n",
       "       [1.        , 0.24604172, 0.01376068],\n",
       "       [0.        , 0.34656949, 0.26086743],\n",
       "       [1.        , 0.61045489, 0.        ],\n",
       "       [0.5       , 0.28373963, 0.02936745],\n",
       "       [1.        , 0.00728826, 0.07746484],\n",
       "       [1.        , 0.34656949, 0.01537917],\n",
       "       [1.        , 0.34656949, 0.04577135],\n",
       "       [0.5       , 0.03242021, 0.05074862],\n",
       "       [1.        , 0.04498618, 0.02173075],\n",
       "       [1.        , 0.23347575, 0.01493181],\n",
       "       [1.        , 0.50364413, 0.01512699],\n",
       "       [1.        , 0.00728826, 0.03072575],\n",
       "       [1.        , 0.34656949, 0.02975782],\n",
       "       [1.        , 0.25860769, 0.01546857]])"
      ]
     },
     "execution_count": 16,
     "metadata": {},
     "output_type": "execute_result"
    }
   ],
   "source": [
    "x_test_minmax = min_max.transform(x_test) \n",
    "x_test_minmax"
   ]
  },
  {
   "cell_type": "markdown",
   "id": "a2ef0da7",
   "metadata": {},
   "source": [
    "### Algorithm starts :"
   ]
  },
  {
   "cell_type": "code",
   "execution_count": 17,
   "id": "33e352a4",
   "metadata": {},
   "outputs": [],
   "source": [
    "from sklearn.linear_model import LogisticRegression\n",
    "classification = LogisticRegression()"
   ]
  },
  {
   "cell_type": "code",
   "execution_count": 18,
   "id": "e80ca298",
   "metadata": {},
   "outputs": [
    {
     "data": {
      "text/plain": [
       "LogisticRegression()"
      ]
     },
     "execution_count": 18,
     "metadata": {},
     "output_type": "execute_result"
    }
   ],
   "source": [
    "classification.fit(x_train_minmax,y_train)"
   ]
  },
  {
   "cell_type": "code",
   "execution_count": 19,
   "id": "c787a65a",
   "metadata": {},
   "outputs": [
    {
     "data": {
      "text/plain": [
       "array([0, 0, 0, 1, 0, 1, 0, 0, 0, 1, 1, 0, 0, 0, 0, 1, 1, 0, 0, 1, 0, 1,\n",
       "       0, 0, 0, 0, 1, 0, 0, 0, 0, 0, 1, 0, 0, 0, 1, 0, 1, 0, 0, 0, 0, 0,\n",
       "       0, 0, 0, 0, 0, 1, 0, 1, 0, 1, 0, 1, 0, 1, 0, 0, 0, 1, 0, 1, 0, 0,\n",
       "       0, 0, 0, 1, 0, 1, 1, 1, 0, 0, 0, 1, 0, 0, 0, 0, 1, 0, 0, 0, 1, 1,\n",
       "       1, 0, 0, 0, 0, 0, 0, 0, 1, 0, 0, 0, 0, 0, 1, 0, 0, 0, 0, 1, 0, 1,\n",
       "       1, 0, 1, 1, 1, 0, 0, 0, 0, 0, 0, 1, 0, 1, 0, 1, 1, 1, 0, 0, 0, 0,\n",
       "       0, 0, 1, 0, 1, 0, 0, 0, 0, 0, 0, 0, 0, 0, 0, 0, 1, 0, 0, 0, 0, 0,\n",
       "       0, 0, 0, 0, 0, 0, 0, 1, 0, 1, 0, 0, 0, 1, 0, 0, 1, 0, 1, 0, 0, 0,\n",
       "       0, 0, 0, 1, 0, 0, 0, 0, 1, 1, 0, 0, 1, 0, 0, 0, 0, 0, 0, 1, 1, 0,\n",
       "       1, 0, 0, 0, 1, 0, 0, 0, 0, 1, 0, 0, 1, 0, 1, 0, 0, 0, 0, 1, 0, 0,\n",
       "       0, 0, 0, 1, 0, 0, 0, 1, 0, 0, 0, 1, 0, 0, 0, 0, 0, 0, 1, 0, 0, 0,\n",
       "       0, 0, 0, 0, 0, 0, 0, 1, 0, 0, 0, 0, 1, 0, 0, 1, 0, 0, 1, 1, 0, 0,\n",
       "       1, 0, 0, 1, 1, 0, 0, 0, 0, 1, 0, 0, 0, 0, 1, 0, 0, 0, 1, 0, 0, 0,\n",
       "       0, 0, 1, 0, 0, 0, 0, 0, 0], dtype=int64)"
      ]
     },
     "execution_count": 19,
     "metadata": {},
     "output_type": "execute_result"
    }
   ],
   "source": [
    "predict =classification.predict(x_test_minmax) # Machine prediction on testing data\n",
    "predict"
   ]
  },
  {
   "cell_type": "code",
   "execution_count": 20,
   "id": "f8767e38",
   "metadata": {},
   "outputs": [
    {
     "name": "stdout",
     "output_type": "stream",
     "text": [
      "              precision    recall  f1-score   support\n",
      "\n",
      "           0       0.90      0.72      0.80       218\n",
      "           1       0.49      0.77      0.60        77\n",
      "\n",
      "    accuracy                           0.73       295\n",
      "   macro avg       0.69      0.74      0.70       295\n",
      "weighted avg       0.79      0.73      0.75       295\n",
      "\n"
     ]
    }
   ],
   "source": [
    "#Printing the classification report\n",
    "\n",
    "from sklearn import metrics\n",
    "print(metrics.classification_report(predict,y_test))"
   ]
  },
  {
   "cell_type": "code",
   "execution_count": 21,
   "id": "d8def912",
   "metadata": {},
   "outputs": [
    {
     "data": {
      "text/plain": [
       "<seaborn.axisgrid.PairGrid at 0x2886e172730>"
      ]
     },
     "execution_count": 21,
     "metadata": {},
     "output_type": "execute_result"
    },
    {
     "data": {
      "image/png": "[encoded data removed]",
      "text/plain": [
       "<Figure size 540x540 with 12 Axes>"
      ]
     },
     "metadata": {
      "needs_background": "light"
     },
     "output_type": "display_data"
    }
   ],
   "source": [
    "sns.pairplot(x_train_minmax)\n",
    "# pairplot of x_train_minmax showing that the values are scaled b/w 0 and 1"
   ]
  },
  {
   "cell_type": "code",
   "execution_count": null,
   "id": "ddc7a962",
   "metadata": {},
   "outputs": [],
   "source": []
  }
 ],
 "metadata": {
  "kernelspec": {
   "display_name": "Python 3",
   "language": "python",
   "name": "python3"
  },
  "language_info": {
   "codemirror_mode": {
    "name": "ipython",
    "version": 3
   },
   "file_extension": ".py",
   "mimetype": "text/x-python",
   "name": "python",
   "nbconvert_exporter": "python",
   "pygments_lexer": "ipython3",
   "version": "3.8.8"
  }
 },
 "nbformat": 4,
 "nbformat_minor": 5
}
