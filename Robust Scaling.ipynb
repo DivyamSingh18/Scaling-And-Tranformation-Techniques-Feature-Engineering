{
 "cells": [
  {
   "cell_type": "markdown",
   "id": "21e791b0",
   "metadata": {},
   "source": [
    "# Robust Scaling"
   ]
  },
  {
   "cell_type": "markdown",
   "id": "0085a509",
   "metadata": {},
   "source": [
    "Robust Scaler are robust to outliers.It is used to scale the feature to median and quantiles\n",
    "Scaling using median and quantiles consists of substracting the median to all the observations, and then dividing by the interquantile difference. The interquantile difference is the difference between the 75th and 25th quantile:<br>\n",
    "\n",
    "IQR = 75th quantile - 25th quantile<br>\n",
    "\n",
    "X_scaled = (X - X.median) / IQR<br>"
   ]
  },
  {
   "cell_type": "markdown",
   "id": "dfe6a724",
   "metadata": {},
   "source": [
    "0,1,2,3,4,5,6,7,8,9,10\n",
    "\n",
    "9-90 percentile---90% of all values in this group is less than 9 <br>\n",
    "1-10 precentile---10% of all values in this group is less than 1 <br>\n",
    "4-40%"
   ]
  },
  {
   "cell_type": "code",
   "execution_count": 1,
   "id": "99cbd79b",
   "metadata": {},
   "outputs": [],
   "source": [
    "import pandas as pd\n",
    "import matplotlib.pyplot as plt\n",
    "import seaborn as sns\n",
    "%matplotlib inline"
   ]
  },
  {
   "cell_type": "code",
   "execution_count": 6,
   "id": "93139772",
   "metadata": {},
   "outputs": [
    {
     "data": {
      "text/html": [
       "<div>\n",
       "<style scoped>\n",
       "    .dataframe tbody tr th:only-of-type {\n",
       "        vertical-align: middle;\n",
       "    }\n",
       "\n",
       "    .dataframe tbody tr th {\n",
       "        vertical-align: top;\n",
       "    }\n",
       "\n",
       "    .dataframe thead th {\n",
       "        text-align: right;\n",
       "    }\n",
       "</style>\n",
       "<table border=\"1\" class=\"dataframe\">\n",
       "  <thead>\n",
       "    <tr style=\"text-align: right;\">\n",
       "      <th></th>\n",
       "      <th>Survived</th>\n",
       "      <th>Pclass</th>\n",
       "      <th>Age</th>\n",
       "      <th>Fare</th>\n",
       "    </tr>\n",
       "  </thead>\n",
       "  <tbody>\n",
       "    <tr>\n",
       "      <th>0</th>\n",
       "      <td>0</td>\n",
       "      <td>3</td>\n",
       "      <td>22.0</td>\n",
       "      <td>7.2500</td>\n",
       "    </tr>\n",
       "    <tr>\n",
       "      <th>1</th>\n",
       "      <td>1</td>\n",
       "      <td>1</td>\n",
       "      <td>38.0</td>\n",
       "      <td>71.2833</td>\n",
       "    </tr>\n",
       "    <tr>\n",
       "      <th>2</th>\n",
       "      <td>1</td>\n",
       "      <td>3</td>\n",
       "      <td>26.0</td>\n",
       "      <td>7.9250</td>\n",
       "    </tr>\n",
       "    <tr>\n",
       "      <th>3</th>\n",
       "      <td>1</td>\n",
       "      <td>1</td>\n",
       "      <td>35.0</td>\n",
       "      <td>53.1000</td>\n",
       "    </tr>\n",
       "    <tr>\n",
       "      <th>4</th>\n",
       "      <td>0</td>\n",
       "      <td>3</td>\n",
       "      <td>35.0</td>\n",
       "      <td>8.0500</td>\n",
       "    </tr>\n",
       "    <tr>\n",
       "      <th>...</th>\n",
       "      <td>...</td>\n",
       "      <td>...</td>\n",
       "      <td>...</td>\n",
       "      <td>...</td>\n",
       "    </tr>\n",
       "    <tr>\n",
       "      <th>886</th>\n",
       "      <td>0</td>\n",
       "      <td>2</td>\n",
       "      <td>27.0</td>\n",
       "      <td>13.0000</td>\n",
       "    </tr>\n",
       "    <tr>\n",
       "      <th>887</th>\n",
       "      <td>1</td>\n",
       "      <td>1</td>\n",
       "      <td>19.0</td>\n",
       "      <td>30.0000</td>\n",
       "    </tr>\n",
       "    <tr>\n",
       "      <th>888</th>\n",
       "      <td>0</td>\n",
       "      <td>3</td>\n",
       "      <td>NaN</td>\n",
       "      <td>23.4500</td>\n",
       "    </tr>\n",
       "    <tr>\n",
       "      <th>889</th>\n",
       "      <td>1</td>\n",
       "      <td>1</td>\n",
       "      <td>26.0</td>\n",
       "      <td>30.0000</td>\n",
       "    </tr>\n",
       "    <tr>\n",
       "      <th>890</th>\n",
       "      <td>0</td>\n",
       "      <td>3</td>\n",
       "      <td>32.0</td>\n",
       "      <td>7.7500</td>\n",
       "    </tr>\n",
       "  </tbody>\n",
       "</table>\n",
       "<p>891 rows × 4 columns</p>\n",
       "</div>"
      ],
      "text/plain": [
       "     Survived  Pclass   Age     Fare\n",
       "0           0       3  22.0   7.2500\n",
       "1           1       1  38.0  71.2833\n",
       "2           1       3  26.0   7.9250\n",
       "3           1       1  35.0  53.1000\n",
       "4           0       3  35.0   8.0500\n",
       "..        ...     ...   ...      ...\n",
       "886         0       2  27.0  13.0000\n",
       "887         1       1  19.0  30.0000\n",
       "888         0       3   NaN  23.4500\n",
       "889         1       1  26.0  30.0000\n",
       "890         0       3  32.0   7.7500\n",
       "\n",
       "[891 rows x 4 columns]"
      ]
     },
     "execution_count": 6,
     "metadata": {},
     "output_type": "execute_result"
    }
   ],
   "source": [
    "df = pd.read_csv('titanic.csv', usecols=['Survived',\"Pclass\",\"Fare\",\"Age\"])\n",
    "df"
   ]
  },
  {
   "cell_type": "code",
   "execution_count": 9,
   "id": "8e17fafb",
   "metadata": {},
   "outputs": [
    {
     "data": {
      "text/html": [
       "<div>\n",
       "<style scoped>\n",
       "    .dataframe tbody tr th:only-of-type {\n",
       "        vertical-align: middle;\n",
       "    }\n",
       "\n",
       "    .dataframe tbody tr th {\n",
       "        vertical-align: top;\n",
       "    }\n",
       "\n",
       "    .dataframe thead th {\n",
       "        text-align: right;\n",
       "    }\n",
       "</style>\n",
       "<table border=\"1\" class=\"dataframe\">\n",
       "  <thead>\n",
       "    <tr style=\"text-align: right;\">\n",
       "      <th></th>\n",
       "      <th>Survived</th>\n",
       "      <th>Pclass</th>\n",
       "      <th>Age</th>\n",
       "      <th>Fare</th>\n",
       "    </tr>\n",
       "  </thead>\n",
       "  <tbody>\n",
       "    <tr>\n",
       "      <th>0</th>\n",
       "      <td>0</td>\n",
       "      <td>3</td>\n",
       "      <td>22.0</td>\n",
       "      <td>7.2500</td>\n",
       "    </tr>\n",
       "    <tr>\n",
       "      <th>1</th>\n",
       "      <td>1</td>\n",
       "      <td>1</td>\n",
       "      <td>38.0</td>\n",
       "      <td>71.2833</td>\n",
       "    </tr>\n",
       "    <tr>\n",
       "      <th>2</th>\n",
       "      <td>1</td>\n",
       "      <td>3</td>\n",
       "      <td>26.0</td>\n",
       "      <td>7.9250</td>\n",
       "    </tr>\n",
       "    <tr>\n",
       "      <th>3</th>\n",
       "      <td>1</td>\n",
       "      <td>1</td>\n",
       "      <td>35.0</td>\n",
       "      <td>53.1000</td>\n",
       "    </tr>\n",
       "    <tr>\n",
       "      <th>4</th>\n",
       "      <td>0</td>\n",
       "      <td>3</td>\n",
       "      <td>35.0</td>\n",
       "      <td>8.0500</td>\n",
       "    </tr>\n",
       "    <tr>\n",
       "      <th>...</th>\n",
       "      <td>...</td>\n",
       "      <td>...</td>\n",
       "      <td>...</td>\n",
       "      <td>...</td>\n",
       "    </tr>\n",
       "    <tr>\n",
       "      <th>886</th>\n",
       "      <td>0</td>\n",
       "      <td>2</td>\n",
       "      <td>27.0</td>\n",
       "      <td>13.0000</td>\n",
       "    </tr>\n",
       "    <tr>\n",
       "      <th>887</th>\n",
       "      <td>1</td>\n",
       "      <td>1</td>\n",
       "      <td>19.0</td>\n",
       "      <td>30.0000</td>\n",
       "    </tr>\n",
       "    <tr>\n",
       "      <th>888</th>\n",
       "      <td>0</td>\n",
       "      <td>3</td>\n",
       "      <td>28.0</td>\n",
       "      <td>23.4500</td>\n",
       "    </tr>\n",
       "    <tr>\n",
       "      <th>889</th>\n",
       "      <td>1</td>\n",
       "      <td>1</td>\n",
       "      <td>26.0</td>\n",
       "      <td>30.0000</td>\n",
       "    </tr>\n",
       "    <tr>\n",
       "      <th>890</th>\n",
       "      <td>0</td>\n",
       "      <td>3</td>\n",
       "      <td>32.0</td>\n",
       "      <td>7.7500</td>\n",
       "    </tr>\n",
       "  </tbody>\n",
       "</table>\n",
       "<p>891 rows × 4 columns</p>\n",
       "</div>"
      ],
      "text/plain": [
       "     Survived  Pclass   Age     Fare\n",
       "0           0       3  22.0   7.2500\n",
       "1           1       1  38.0  71.2833\n",
       "2           1       3  26.0   7.9250\n",
       "3           1       1  35.0  53.1000\n",
       "4           0       3  35.0   8.0500\n",
       "..        ...     ...   ...      ...\n",
       "886         0       2  27.0  13.0000\n",
       "887         1       1  19.0  30.0000\n",
       "888         0       3  28.0  23.4500\n",
       "889         1       1  26.0  30.0000\n",
       "890         0       3  32.0   7.7500\n",
       "\n",
       "[891 rows x 4 columns]"
      ]
     },
     "execution_count": 9,
     "metadata": {},
     "output_type": "execute_result"
    }
   ],
   "source": [
    "df[\"Age\"].fillna(df.Age.median(), inplace=True)\n",
    "df"
   ]
  },
  {
   "cell_type": "markdown",
   "id": "ec0698c1",
   "metadata": {},
   "source": [
    "## (i) Scaling/Transforming the dataset as df "
   ]
  },
  {
   "cell_type": "code",
   "execution_count": 12,
   "id": "41d53586",
   "metadata": {},
   "outputs": [
    {
     "data": {
      "text/html": [
       "<div>\n",
       "<style scoped>\n",
       "    .dataframe tbody tr th:only-of-type {\n",
       "        vertical-align: middle;\n",
       "    }\n",
       "\n",
       "    .dataframe tbody tr th {\n",
       "        vertical-align: top;\n",
       "    }\n",
       "\n",
       "    .dataframe thead th {\n",
       "        text-align: right;\n",
       "    }\n",
       "</style>\n",
       "<table border=\"1\" class=\"dataframe\">\n",
       "  <thead>\n",
       "    <tr style=\"text-align: right;\">\n",
       "      <th></th>\n",
       "      <th>Survived</th>\n",
       "      <th>Pclass</th>\n",
       "      <th>Age</th>\n",
       "      <th>Fare</th>\n",
       "    </tr>\n",
       "  </thead>\n",
       "  <tbody>\n",
       "    <tr>\n",
       "      <th>0</th>\n",
       "      <td>0.0</td>\n",
       "      <td>0.0</td>\n",
       "      <td>-0.461538</td>\n",
       "      <td>-0.312011</td>\n",
       "    </tr>\n",
       "    <tr>\n",
       "      <th>1</th>\n",
       "      <td>1.0</td>\n",
       "      <td>-2.0</td>\n",
       "      <td>0.769231</td>\n",
       "      <td>2.461242</td>\n",
       "    </tr>\n",
       "    <tr>\n",
       "      <th>2</th>\n",
       "      <td>1.0</td>\n",
       "      <td>0.0</td>\n",
       "      <td>-0.153846</td>\n",
       "      <td>-0.282777</td>\n",
       "    </tr>\n",
       "    <tr>\n",
       "      <th>3</th>\n",
       "      <td>1.0</td>\n",
       "      <td>-2.0</td>\n",
       "      <td>0.538462</td>\n",
       "      <td>1.673732</td>\n",
       "    </tr>\n",
       "    <tr>\n",
       "      <th>4</th>\n",
       "      <td>0.0</td>\n",
       "      <td>0.0</td>\n",
       "      <td>0.538462</td>\n",
       "      <td>-0.277363</td>\n",
       "    </tr>\n",
       "  </tbody>\n",
       "</table>\n",
       "</div>"
      ],
      "text/plain": [
       "   Survived  Pclass       Age      Fare\n",
       "0       0.0     0.0 -0.461538 -0.312011\n",
       "1       1.0    -2.0  0.769231  2.461242\n",
       "2       1.0     0.0 -0.153846 -0.282777\n",
       "3       1.0    -2.0  0.538462  1.673732\n",
       "4       0.0     0.0  0.538462 -0.277363"
      ]
     },
     "execution_count": 12,
     "metadata": {},
     "output_type": "execute_result"
    }
   ],
   "source": [
    "from sklearn.preprocessing import RobustScaler\n",
    "scaler = RobustScaler()\n",
    "\n",
    "df_robust=pd.DataFrame(scaler.fit_transform(df),columns=df.columns)\n",
    "df_robust.head()"
   ]
  },
  {
   "cell_type": "code",
   "execution_count": 18,
   "id": "8c37551f",
   "metadata": {},
   "outputs": [
    {
     "data": {
      "text/plain": [
       "Text(0.5, 1.0, 'Age Before Robust Scaling')"
      ]
     },
     "execution_count": 18,
     "metadata": {},
     "output_type": "execute_result"
    },
    {
     "data": {
      "image/png": "[encoded data removed]",
      "text/plain": [
       "<Figure size 432x288 with 1 Axes>"
      ]
     },
     "metadata": {
      "needs_background": "light"
     },
     "output_type": "display_data"
    }
   ],
   "source": [
    "plt.hist(df['Age'],bins=20)\n",
    "plt.title(\"Age Before Robust Scaling\")"
   ]
  },
  {
   "cell_type": "code",
   "execution_count": 16,
   "id": "827a14c9",
   "metadata": {},
   "outputs": [
    {
     "data": {
      "text/plain": [
       "Text(0.5, 1.0, 'Age After Robust Scaling')"
      ]
     },
     "execution_count": 16,
     "metadata": {},
     "output_type": "execute_result"
    },
    {
     "data": {
      "image/png": "[encoded data removed]",
      "text/plain": [
       "<Figure size 432x288 with 1 Axes>"
      ]
     },
     "metadata": {
      "needs_background": "light"
     },
     "output_type": "display_data"
    }
   ],
   "source": [
    "plt.hist(df_robust['Age'],bins=20)\n",
    "plt.title(\"Age After Robust Scaling\")"
   ]
  },
  {
   "cell_type": "code",
   "execution_count": 22,
   "id": "e646d68d",
   "metadata": {},
   "outputs": [
    {
     "data": {
      "text/plain": [
       "Text(0.5, 1.0, 'Fare before Robust Scaling')"
      ]
     },
     "execution_count": 22,
     "metadata": {},
     "output_type": "execute_result"
    },
    {
     "data": {
      "image/png": "[encoded data removed]",
      "text/plain": [
       "<Figure size 432x288 with 1 Axes>"
      ]
     },
     "metadata": {
      "needs_background": "light"
     },
     "output_type": "display_data"
    }
   ],
   "source": [
    "plt.hist(df['Fare'],bins=20,color='purple')\n",
    "plt.title(\"Fare before Robust Scaling\")"
   ]
  },
  {
   "cell_type": "code",
   "execution_count": 29,
   "id": "38c9207d",
   "metadata": {},
   "outputs": [
    {
     "data": {
      "text/plain": [
       "Text(0.5, 1.0, 'Fare After Robust Scaling')"
      ]
     },
     "execution_count": 29,
     "metadata": {},
     "output_type": "execute_result"
    },
    {
     "data": {
      "image/png": "[encoded data removed]",
      "text/plain": [
       "<Figure size 432x288 with 1 Axes>"
      ]
     },
     "metadata": {
      "needs_background": "light"
     },
     "output_type": "display_data"
    }
   ],
   "source": [
    "plt.hist(df_robust['Fare'],bins=20,color='purple')\n",
    "plt.title(\"Fare After Robust Scaling\")"
   ]
  },
  {
   "cell_type": "code",
   "execution_count": 28,
   "id": "4025e1a5",
   "metadata": {},
   "outputs": [
    {
     "data": {
      "text/plain": [
       "Text(0.5, 1.0, 'Pclass before Robust Scaling')"
      ]
     },
     "execution_count": 28,
     "metadata": {},
     "output_type": "execute_result"
    },
    {
     "data": {
      "image/png": "[encoded data removed]",
      "text/plain": [
       "<Figure size 432x288 with 1 Axes>"
      ]
     },
     "metadata": {
      "needs_background": "light"
     },
     "output_type": "display_data"
    }
   ],
   "source": [
    "plt.hist(df['Pclass'],bins=20,color='green')\n",
    "plt.title(\"Pclass before Robust Scaling\")"
   ]
  },
  {
   "cell_type": "code",
   "execution_count": 30,
   "id": "f9105e23",
   "metadata": {},
   "outputs": [
    {
     "data": {
      "text/plain": [
       "Text(0.5, 1.0, 'Pclass After Robust Scaling')"
      ]
     },
     "execution_count": 30,
     "metadata": {},
     "output_type": "execute_result"
    },
    {
     "data": {
      "image/png": "[encoded data removed]",
      "text/plain": [
       "<Figure size 432x288 with 1 Axes>"
      ]
     },
     "metadata": {
      "needs_background": "light"
     },
     "output_type": "display_data"
    }
   ],
   "source": [
    "plt.hist(df_robust['Pclass'],bins=20,color='green')\n",
    "plt.title(\"Pclass After Robust Scaling\")"
   ]
  },
  {
   "cell_type": "markdown",
   "id": "bb60a048",
   "metadata": {},
   "source": [
    "# (ii) Scaling/Transforming the dataset by splitting for model"
   ]
  },
  {
   "cell_type": "code",
   "execution_count": 31,
   "id": "301f1a84",
   "metadata": {},
   "outputs": [],
   "source": [
    "#Separating the independent and dependent features\n",
    "x=df.iloc[:,1:] # independent\n",
    "y=df.iloc[:,0]  # dependent"
   ]
  },
  {
   "cell_type": "code",
   "execution_count": 32,
   "id": "ca6b810d",
   "metadata": {},
   "outputs": [
    {
     "data": {
      "text/html": [
       "<div>\n",
       "<style scoped>\n",
       "    .dataframe tbody tr th:only-of-type {\n",
       "        vertical-align: middle;\n",
       "    }\n",
       "\n",
       "    .dataframe tbody tr th {\n",
       "        vertical-align: top;\n",
       "    }\n",
       "\n",
       "    .dataframe thead th {\n",
       "        text-align: right;\n",
       "    }\n",
       "</style>\n",
       "<table border=\"1\" class=\"dataframe\">\n",
       "  <thead>\n",
       "    <tr style=\"text-align: right;\">\n",
       "      <th></th>\n",
       "      <th>Pclass</th>\n",
       "      <th>Age</th>\n",
       "      <th>Fare</th>\n",
       "    </tr>\n",
       "  </thead>\n",
       "  <tbody>\n",
       "    <tr>\n",
       "      <th>0</th>\n",
       "      <td>3</td>\n",
       "      <td>22.0</td>\n",
       "      <td>7.2500</td>\n",
       "    </tr>\n",
       "    <tr>\n",
       "      <th>1</th>\n",
       "      <td>1</td>\n",
       "      <td>38.0</td>\n",
       "      <td>71.2833</td>\n",
       "    </tr>\n",
       "    <tr>\n",
       "      <th>2</th>\n",
       "      <td>3</td>\n",
       "      <td>26.0</td>\n",
       "      <td>7.9250</td>\n",
       "    </tr>\n",
       "    <tr>\n",
       "      <th>3</th>\n",
       "      <td>1</td>\n",
       "      <td>35.0</td>\n",
       "      <td>53.1000</td>\n",
       "    </tr>\n",
       "    <tr>\n",
       "      <th>4</th>\n",
       "      <td>3</td>\n",
       "      <td>35.0</td>\n",
       "      <td>8.0500</td>\n",
       "    </tr>\n",
       "    <tr>\n",
       "      <th>...</th>\n",
       "      <td>...</td>\n",
       "      <td>...</td>\n",
       "      <td>...</td>\n",
       "    </tr>\n",
       "    <tr>\n",
       "      <th>886</th>\n",
       "      <td>2</td>\n",
       "      <td>27.0</td>\n",
       "      <td>13.0000</td>\n",
       "    </tr>\n",
       "    <tr>\n",
       "      <th>887</th>\n",
       "      <td>1</td>\n",
       "      <td>19.0</td>\n",
       "      <td>30.0000</td>\n",
       "    </tr>\n",
       "    <tr>\n",
       "      <th>888</th>\n",
       "      <td>3</td>\n",
       "      <td>28.0</td>\n",
       "      <td>23.4500</td>\n",
       "    </tr>\n",
       "    <tr>\n",
       "      <th>889</th>\n",
       "      <td>1</td>\n",
       "      <td>26.0</td>\n",
       "      <td>30.0000</td>\n",
       "    </tr>\n",
       "    <tr>\n",
       "      <th>890</th>\n",
       "      <td>3</td>\n",
       "      <td>32.0</td>\n",
       "      <td>7.7500</td>\n",
       "    </tr>\n",
       "  </tbody>\n",
       "</table>\n",
       "<p>891 rows × 3 columns</p>\n",
       "</div>"
      ],
      "text/plain": [
       "     Pclass   Age     Fare\n",
       "0         3  22.0   7.2500\n",
       "1         1  38.0  71.2833\n",
       "2         3  26.0   7.9250\n",
       "3         1  35.0  53.1000\n",
       "4         3  35.0   8.0500\n",
       "..      ...   ...      ...\n",
       "886       2  27.0  13.0000\n",
       "887       1  19.0  30.0000\n",
       "888       3  28.0  23.4500\n",
       "889       1  26.0  30.0000\n",
       "890       3  32.0   7.7500\n",
       "\n",
       "[891 rows x 3 columns]"
      ]
     },
     "execution_count": 32,
     "metadata": {},
     "output_type": "execute_result"
    }
   ],
   "source": [
    "x"
   ]
  },
  {
   "cell_type": "code",
   "execution_count": 33,
   "id": "b2637218",
   "metadata": {},
   "outputs": [
    {
     "data": {
      "text/plain": [
       "0      0\n",
       "1      1\n",
       "2      1\n",
       "3      1\n",
       "4      0\n",
       "      ..\n",
       "886    0\n",
       "887    1\n",
       "888    0\n",
       "889    1\n",
       "890    0\n",
       "Name: Survived, Length: 891, dtype: int64"
      ]
     },
     "execution_count": 33,
     "metadata": {},
     "output_type": "execute_result"
    }
   ],
   "source": [
    "y"
   ]
  },
  {
   "cell_type": "code",
   "execution_count": 34,
   "id": "b41bb0b0",
   "metadata": {},
   "outputs": [],
   "source": [
    "from sklearn.model_selection import train_test_split  # creating model\n",
    "x_train, x_test, y_train, y_test = train_test_split(x, y, test_size=0.33, random_state=42)"
   ]
  },
  {
   "cell_type": "code",
   "execution_count": 35,
   "id": "b1eda61c",
   "metadata": {},
   "outputs": [
    {
     "data": {
      "text/html": [
       "<div>\n",
       "<style scoped>\n",
       "    .dataframe tbody tr th:only-of-type {\n",
       "        vertical-align: middle;\n",
       "    }\n",
       "\n",
       "    .dataframe tbody tr th {\n",
       "        vertical-align: top;\n",
       "    }\n",
       "\n",
       "    .dataframe thead th {\n",
       "        text-align: right;\n",
       "    }\n",
       "</style>\n",
       "<table border=\"1\" class=\"dataframe\">\n",
       "  <thead>\n",
       "    <tr style=\"text-align: right;\">\n",
       "      <th></th>\n",
       "      <th>Pclass</th>\n",
       "      <th>Age</th>\n",
       "      <th>Fare</th>\n",
       "    </tr>\n",
       "  </thead>\n",
       "  <tbody>\n",
       "    <tr>\n",
       "      <th>0</th>\n",
       "      <td>-2.0</td>\n",
       "      <td>2.000000</td>\n",
       "      <td>1.602069</td>\n",
       "    </tr>\n",
       "    <tr>\n",
       "      <th>1</th>\n",
       "      <td>0.0</td>\n",
       "      <td>0.000000</td>\n",
       "      <td>0.044788</td>\n",
       "    </tr>\n",
       "    <tr>\n",
       "      <th>2</th>\n",
       "      <td>-1.0</td>\n",
       "      <td>-0.230769</td>\n",
       "      <td>1.161670</td>\n",
       "    </tr>\n",
       "    <tr>\n",
       "      <th>3</th>\n",
       "      <td>0.0</td>\n",
       "      <td>-0.153846</td>\n",
       "      <td>0.000000</td>\n",
       "    </tr>\n",
       "    <tr>\n",
       "      <th>4</th>\n",
       "      <td>0.0</td>\n",
       "      <td>-0.461538</td>\n",
       "      <td>-0.168630</td>\n",
       "    </tr>\n",
       "  </tbody>\n",
       "</table>\n",
       "</div>"
      ],
      "text/plain": [
       "   Pclass       Age      Fare\n",
       "0    -2.0  2.000000  1.602069\n",
       "1     0.0  0.000000  0.044788\n",
       "2    -1.0 -0.230769  1.161670\n",
       "3     0.0 -0.153846  0.000000\n",
       "4     0.0 -0.461538 -0.168630"
      ]
     },
     "execution_count": 35,
     "metadata": {},
     "output_type": "execute_result"
    }
   ],
   "source": [
    "from sklearn.preprocessing import RobustScaler\n",
    "scaler = RobustScaler()\n",
    "\n",
    "x_train_robust = pd.DataFrame(scaler.fit_transform(x_train), columns=[\"Pclass\",'Age','Fare'])\n",
    "x_train_robust.head()"
   ]
  },
  {
   "cell_type": "code",
   "execution_count": 36,
   "id": "683302d3",
   "metadata": {},
   "outputs": [
    {
     "data": {
      "text/plain": [
       "array([[ 0.00000000e+00,  0.00000000e+00,  3.39014989e-02],\n",
       "       [-1.00000000e+00,  2.30769231e-01, -1.69344754e-01],\n",
       "       [ 0.00000000e+00, -6.15384615e-01, -2.79623126e-01],\n",
       "       [-1.00000000e+00, -1.69230769e+00,  7.94252677e-01],\n",
       "       [ 0.00000000e+00, -1.07692308e+00, -1.37580300e-01],\n",
       "       [-2.00000000e+00, -1.53846154e-01,  2.75785011e+00],\n",
       "       [ 0.00000000e+00,  0.00000000e+00, -2.87117773e-01],\n",
       "       [ 0.00000000e+00, -9.23076923e-01,  1.51854390e-01],\n",
       "       [ 0.00000000e+00, -9.23076923e-01, -2.87117773e-01],\n",
       "       [-2.00000000e+00, -6.92307692e-01,  5.06599572e-01],\n",
       "       [-2.00000000e+00,  6.92307692e-01,  1.65506638e+00],\n",
       "       [ 0.00000000e+00,  1.23076923e+00, -2.74269807e-01],\n",
       "       [ 0.00000000e+00,  0.00000000e+00,  4.71627409e-01],\n",
       "       [ 0.00000000e+00,  1.53846154e-01, -3.09601713e-01],\n",
       "       [-1.00000000e+00,  6.15384615e-01, -6.22783726e-02],\n",
       "       [-2.00000000e+00, -9.23076923e-01,  1.06834261e+00],\n",
       "       [-2.00000000e+00,  1.07692308e+00,  1.63169165e+00],\n",
       "       [ 0.00000000e+00,  0.00000000e+00, -2.83725910e-01],\n",
       "       [-1.00000000e+00, -7.69230769e-02, -6.22783726e-02],\n",
       "       [-2.00000000e+00,  1.46153846e+00,  1.60795717e+00],\n",
       "       [ 0.00000000e+00, -3.07692308e-01, -2.80873662e-01],\n",
       "       [-2.00000000e+00,  4.61538462e-01,  5.18021413e-01],\n",
       "       [ 0.00000000e+00, -6.92307692e-01, -2.82655246e-01],\n",
       "       [ 0.00000000e+00, -6.15384615e-01, -2.23948608e-01],\n",
       "       [ 0.00000000e+00,  0.00000000e+00,  1.96145610e-03],\n",
       "       [ 0.00000000e+00, -1.38461538e+00,  5.75837259e-01],\n",
       "       [-2.00000000e+00,  9.23076923e-01,  5.68162741e-01],\n",
       "       [-1.00000000e+00,  2.30769231e-01, -6.22783726e-02],\n",
       "       [ 0.00000000e+00, -1.84615385e+00,  5.75837259e-01],\n",
       "       [ 0.00000000e+00,  2.30769231e-01, -2.82655246e-01],\n",
       "       [ 0.00000000e+00, -6.92307692e-01, -2.80873662e-01],\n",
       "       [ 0.00000000e+00, -4.61538462e-01, -2.87117773e-01],\n",
       "       [-2.00000000e+00,  0.00000000e+00,  6.95571734e-01],\n",
       "       [ 0.00000000e+00,  0.00000000e+00, -2.95683084e-01],\n",
       "       [ 0.00000000e+00, -7.69230769e-01, -2.74269807e-01],\n",
       "       [ 0.00000000e+00, -7.69230769e-02,  0.00000000e+00],\n",
       "       [-2.00000000e+00,  0.00000000e+00,  9.01319058e-01],\n",
       "       [ 0.00000000e+00,  0.00000000e+00, -2.87117773e-01],\n",
       "       [-2.00000000e+00,  1.53846154e-01,  7.08599572e-01],\n",
       "       [ 0.00000000e+00,  0.00000000e+00, -2.80873662e-01],\n",
       "       [-1.00000000e+00, -5.38461538e-01,  2.52872805e+00],\n",
       "       [ 0.00000000e+00,  7.69230769e-02, -3.17276231e-01],\n",
       "       [ 0.00000000e+00,  0.00000000e+00, -2.74269807e-01],\n",
       "       [ 0.00000000e+00,  0.00000000e+00, -2.87117773e-01],\n",
       "       [ 0.00000000e+00,  1.30769231e+00,  0.00000000e+00],\n",
       "       [ 0.00000000e+00, -9.23076923e-01,  8.53139186e-01],\n",
       "       [ 0.00000000e+00, -6.92307692e-01, -2.69631692e-01],\n",
       "       [ 0.00000000e+00, -3.84615385e-01, -2.23948608e-01],\n",
       "       [ 0.00000000e+00, -3.07692308e-01, -3.17096360e-01],\n",
       "       [-2.00000000e+00,  2.30769231e+00,  4.23215418e+00],\n",
       "       [ 0.00000000e+00, -1.76923077e+00,  2.05743041e-01],\n",
       "       [-2.00000000e+00,  1.84615385e+00,  3.38525910e+00],\n",
       "       [ 0.00000000e+00,  9.23076923e-01,  5.75837259e-01],\n",
       "       [-2.00000000e+00, -1.30769231e+00,  4.52016274e+00],\n",
       "       [ 0.00000000e+00,  2.84615385e+00, -2.87117773e-01],\n",
       "       [-2.00000000e+00, -7.69230769e-01,  2.79211135e+00],\n",
       "       [-1.00000000e+00,  3.07692308e-01, -1.69344754e-01],\n",
       "       [-2.00000000e+00,  1.69230769e+00,  9.98143897e+00],\n",
       "       [-1.00000000e+00,  5.38461538e-01,  2.80334047e-01],\n",
       "       [ 0.00000000e+00, -6.92307692e-01, -2.81584582e-01],\n",
       "       [ 0.00000000e+00, -5.38461538e-01, -2.86047109e-01],\n",
       "       [-1.00000000e+00, -1.15384615e+00,  2.16094218e-01],\n",
       "       [-1.00000000e+00,  0.00000000e+00,  4.94466809e-01],\n",
       "       [-2.00000000e+00,  0.00000000e+00,  4.91254818e-01],\n",
       "       [ 0.00000000e+00,  0.00000000e+00, -2.87117773e-01],\n",
       "       [-1.00000000e+00,  2.23076923e+00, -1.69344754e-01],\n",
       "       [-1.00000000e+00, -5.38461538e-01,  2.52872805e+00],\n",
       "       [ 0.00000000e+00,  7.69230769e-02, -2.81764454e-01],\n",
       "       [ 0.00000000e+00, -8.46153846e-01, -3.09421842e-01],\n",
       "       [-2.00000000e+00,  1.84615385e+00,  2.73286938e+00],\n",
       "       [-1.00000000e+00, -1.53846154e-01,  4.94466809e-01],\n",
       "       [-2.00000000e+00, -7.69230769e-01,  1.06175931e+01],\n",
       "       [-2.00000000e+00, -1.53846154e-01,  6.65773019e-01],\n",
       "       [-2.00000000e+00,  8.46153846e-01,  2.94235974e+00],\n",
       "       [ 0.00000000e+00, -3.84615385e-01, -2.82655246e-01],\n",
       "       [ 0.00000000e+00,  6.15384615e-01,  4.69293362e-02],\n",
       "       [ 0.00000000e+00,  1.92307692e-01, -2.87117773e-01],\n",
       "       [-2.00000000e+00, -4.61538462e-01,  1.50089079e+00],\n",
       "       [-1.00000000e+00,  7.69230769e-01, -6.22783726e-02],\n",
       "       [ 0.00000000e+00,  1.00000000e+00,  2.46608137e-01],\n",
       "       [ 0.00000000e+00, -9.23076923e-01,  1.08065525e+00],\n",
       "       [-1.00000000e+00,  7.69230769e-02, -1.69344754e-01],\n",
       "       [-2.00000000e+00,  9.23076923e-01,  5.14114775e+00],\n",
       "       [ 0.00000000e+00,  0.00000000e+00, -2.87653105e-01],\n",
       "       [-2.00000000e+00,  2.15384615e+00,  6.95571734e-01],\n",
       "       [-2.00000000e+00,  3.30769231e+00,  1.50107066e+00],\n",
       "       [-2.00000000e+00,  2.30769231e-01,  4.23215418e+00],\n",
       "       [-2.00000000e+00,  1.53846154e-01,  1.81905782e+00],\n",
       "       [-2.00000000e+00,  7.69230769e-01, -6.19023555e-01],\n",
       "       [ 0.00000000e+00,  0.00000000e+00, -3.08531049e-01],\n",
       "       [ 0.00000000e+00, -1.46153846e+00,  2.59991435e-01],\n",
       "       [ 0.00000000e+00, -1.46153846e+00,  7.20376874e-01],\n",
       "       [-2.00000000e+00,  2.53846154e+00,  7.65164882e-01],\n",
       "       [ 0.00000000e+00,  0.00000000e+00, -2.88008565e-01],\n",
       "       [ 0.00000000e+00,  0.00000000e+00, -2.80873662e-01],\n",
       "       [ 0.00000000e+00,  0.00000000e+00, -2.82655246e-01],\n",
       "       [-2.00000000e+00,  1.53846154e+00,  1.60795717e+00],\n",
       "       [ 0.00000000e+00,  1.30769231e+00, -2.74269807e-01],\n",
       "       [-1.00000000e+00,  6.15384615e-01, -6.22783726e-02],\n",
       "       [ 0.00000000e+00, -7.69230769e-02, -2.80873662e-01],\n",
       "       [-2.00000000e+00,  2.76923077e+00,  4.94466809e-01],\n",
       "       [ 0.00000000e+00,  5.38461538e-01, -3.13884368e-01],\n",
       "       [-2.00000000e+00, -6.92307692e-01,  3.28158458e+00],\n",
       "       [ 0.00000000e+00,  7.69230769e-01, -3.17096360e-01],\n",
       "       [ 0.00000000e+00,  1.92307692e-01, -2.74269807e-01],\n",
       "       [ 0.00000000e+00, -2.30769231e-01, -2.86047109e-01],\n",
       "       [-1.00000000e+00,  9.23076923e-01,  1.05121199e+00],\n",
       "       [-2.00000000e+00,  1.46153846e+00,  1.02979872e+00],\n",
       "       [ 0.00000000e+00,  1.53846154e-01, -2.12171306e-01],\n",
       "       [-2.00000000e+00,  9.23076923e-01,  7.08599572e-01],\n",
       "       [-2.00000000e+00,  0.00000000e+00,  1.60795717e+00],\n",
       "       [ 0.00000000e+00, -5.76923077e-01, -3.08531049e-01],\n",
       "       [-2.00000000e+00,  0.00000000e+00,  3.19700214e+00],\n",
       "       [-2.00000000e+00,  6.15384615e-01,  5.06779443e-01],\n",
       "       [-2.00000000e+00,  0.00000000e+00,  8.87901499e+00],\n",
       "       [ 0.00000000e+00, -6.15384615e-01, -1.97361884e-01],\n",
       "       [-2.00000000e+00,  3.30769231e+00,  8.65096360e-01],\n",
       "       [-1.00000000e+00,  6.15384615e-01, -6.76316916e-02],\n",
       "       [-1.00000000e+00, -4.61538462e-01,  6.22946467e-01],\n",
       "       [ 0.00000000e+00,  1.53846154e+00,  8.53139186e-01],\n",
       "       [-1.00000000e+00, -3.84615385e-01, -1.26518201e-01],\n",
       "       [-2.00000000e+00,  3.07692308e-01,  2.64828694e+00],\n",
       "       [-2.00000000e+00,  2.69230769e+00,  2.71966167e+00],\n",
       "       [-1.00000000e+00, -2.09000000e+00,  6.22946467e-01],\n",
       "       [ 0.00000000e+00, -2.30769231e-01, -3.08531049e-01],\n",
       "       [-2.00000000e+00,  5.38461538e-01,  5.18021413e-01],\n",
       "       [-2.00000000e+00,  1.61538462e+00,  4.91434690e-01],\n",
       "       [-2.00000000e+00, -3.07692308e-01,  2.77283940e+00],\n",
       "       [ 0.00000000e+00,  0.00000000e+00,  1.75588865e-04],\n",
       "       [ 0.00000000e+00, -5.38461538e-01, -2.74269807e-01],\n",
       "       [ 0.00000000e+00,  0.00000000e+00, -2.81584582e-01],\n",
       "       [ 0.00000000e+00,  0.00000000e+00,  3.39014989e-02],\n",
       "       [-1.00000000e+00,  0.00000000e+00, -6.19023555e-01],\n",
       "       [ 0.00000000e+00, -1.76923077e+00, -8.47623126e-02],\n",
       "       [-2.00000000e+00,  1.61538462e+00,  1.81905782e+00],\n",
       "       [ 0.00000000e+00, -1.00000000e+00,  0.00000000e+00],\n",
       "       [-2.00000000e+00,  0.00000000e+00,  4.12972591e+00],\n",
       "       [ 0.00000000e+00,  7.69230769e-02, -2.86047109e-01],\n",
       "       [ 0.00000000e+00,  1.07692308e+00, -2.95683084e-01],\n",
       "       [ 0.00000000e+00, -7.69230769e-01,  1.43289079e-01],\n",
       "       [ 0.00000000e+00, -5.38461538e-01, -2.57854390e-01],\n",
       "       [-1.00000000e+00,  1.23076923e+00,  4.94466809e-01],\n",
       "       [-1.00000000e+00,  0.00000000e+00, -6.22783726e-02],\n",
       "       [-1.00000000e+00,  6.92307692e-01,  4.94466809e-01],\n",
       "       [ 0.00000000e+00,  8.46153846e-01,  6.28299786e-01],\n",
       "       [-1.00000000e+00,  4.61538462e-01,  7.72839400e-01],\n",
       "       [-1.00000000e+00,  1.53846154e-01, -6.22783726e-02],\n",
       "       [-1.00000000e+00,  2.92307692e+00, -1.69344754e-01],\n",
       "       [-2.00000000e+00,  0.00000000e+00,  5.65595717e+00],\n",
       "       [ 0.00000000e+00,  1.15384615e+00, -2.74269807e-01],\n",
       "       [ 0.00000000e+00,  0.00000000e+00, -2.45897216e-01],\n",
       "       [ 0.00000000e+00, -3.07692308e-01, -2.98004283e-01],\n",
       "       [ 0.00000000e+00, -7.69230769e-01, -2.85156317e-01],\n",
       "       [ 0.00000000e+00,  0.00000000e+00,  4.15237687e-01],\n",
       "       [ 0.00000000e+00,  0.00000000e+00, -2.74269807e-01],\n",
       "       [ 0.00000000e+00,  0.00000000e+00, -3.17096360e-01],\n",
       "       [ 0.00000000e+00,  0.00000000e+00,  1.80049679e+00],\n",
       "       [ 0.00000000e+00,  0.00000000e+00, -2.85511777e-01],\n",
       "       [-1.00000000e+00,  6.15384615e-01,  4.94466809e-01],\n",
       "       [ 0.00000000e+00,  3.07692308e-01,  4.47880086e-02],\n",
       "       [ 0.00000000e+00, -3.46153846e-01, -3.09421842e-01],\n",
       "       [-2.00000000e+00,  0.00000000e+00,  5.18021413e-01],\n",
       "       [-1.00000000e+00,  8.46153846e-01, -6.22783726e-02],\n",
       "       [-2.00000000e+00,  0.00000000e+00,  2.90006852e+00],\n",
       "       [ 0.00000000e+00,  0.00000000e+00, -2.56783726e-01],\n",
       "       [-2.00000000e+00,  2.84615385e+00,  2.03533191e+00],\n",
       "       [-1.00000000e+00, -3.84615385e-01, -1.69344754e-01],\n",
       "       [-2.00000000e+00,  0.00000000e+00,  1.60206852e+00],\n",
       "       [ 0.00000000e+00, -4.61538462e-01, -2.80873662e-01],\n",
       "       [ 0.00000000e+00,  5.38461538e-01, -3.17096360e-01],\n",
       "       [-2.00000000e+00, -3.84615385e-01,  2.09439400e+00],\n",
       "       [-1.00000000e+00, -7.69230769e-01, -6.22783726e-02],\n",
       "       [-2.00000000e+00,  6.15384615e-01,  5.11062099e-01],\n",
       "       [ 0.00000000e+00, -1.46153846e+00,  3.39014989e-02],\n",
       "       [ 0.00000000e+00, -8.46153846e-01, -3.13884368e-01],\n",
       "       [ 0.00000000e+00,  0.00000000e+00, -3.09601713e-01],\n",
       "       [ 0.00000000e+00,  7.69230769e-01,  7.25194861e-01],\n",
       "       [-1.00000000e+00, -8.46153846e-01, -1.69344754e-01],\n",
       "       [ 0.00000000e+00, -1.84615385e+00,  9.61798715e-02],\n",
       "       [-2.00000000e+00,  1.34615385e+00,  6.01533191e-01],\n",
       "       [-1.00000000e+00, -3.84615385e-01, -6.22783726e-02],\n",
       "       [ 0.00000000e+00,  3.07692308e-01, -2.79623126e-01],\n",
       "       [ 0.00000000e+00, -1.53846154e-01, -2.82655246e-01],\n",
       "       [ 0.00000000e+00, -1.69230769e+00,  7.20376874e-01],\n",
       "       [-2.00000000e+00, -3.07692308e-01,  9.98143897e+00],\n",
       "       [-2.00000000e+00,  1.30769231e+00,  5.18021413e-01],\n",
       "       [-1.00000000e+00,  7.69230769e-02,  5.68162741e-01],\n",
       "       [ 0.00000000e+00,  0.00000000e+00, -2.80873662e-01],\n",
       "       [-2.00000000e+00,  0.00000000e+00,  9.01319058e-01],\n",
       "       [-1.00000000e+00,  1.07692308e+00, -6.22783726e-02],\n",
       "       [ 0.00000000e+00,  6.15384615e-01,  4.15237687e-01],\n",
       "       [-1.00000000e+00,  3.84615385e-01, -9.33276231e-02],\n",
       "       [ 0.00000000e+00, -8.46153846e-01, -3.16916488e-01],\n",
       "       [ 0.00000000e+00,  7.69230769e-02, -2.12171306e-01],\n",
       "       [-1.00000000e+00,  1.69230769e+00,  4.94466809e-01],\n",
       "       [-2.00000000e+00,  5.38461538e-01,  3.23536617e+00],\n",
       "       [-2.00000000e+00,  7.69230769e-01,  9.12508779e+00],\n",
       "       [-1.00000000e+00,  4.61538462e-01, -6.22783726e-02],\n",
       "       [-2.00000000e+00, -8.46153846e-01,  1.82208994e+00],\n",
       "       [ 0.00000000e+00, -1.30769231e+00,  7.20376874e-01],\n",
       "       [ 0.00000000e+00,  2.53846154e+00, -3.51892934e-01],\n",
       "       [ 0.00000000e+00,  1.53846154e-01, -2.48038544e-01],\n",
       "       [-1.00000000e+00, -1.61538462e+00,  5.05173448e-01],\n",
       "       [ 0.00000000e+00,  2.69230769e+00, -2.08423983e-01],\n",
       "       [ 0.00000000e+00, -6.15384615e-01, -3.09421842e-01],\n",
       "       [ 0.00000000e+00,  0.00000000e+00,  3.38505353e-01],\n",
       "       [ 0.00000000e+00,  7.69230769e-02, -2.12886510e-01],\n",
       "       [-2.00000000e+00,  6.15384615e-01,  4.52016274e+00],\n",
       "       [ 0.00000000e+00,  0.00000000e+00,  1.75588865e-04],\n",
       "       [ 0.00000000e+00,  1.69230769e+00, -2.74269807e-01],\n",
       "       [-2.00000000e+00, -7.69230769e-02,  8.43879229e+00],\n",
       "       [ 0.00000000e+00,  1.53846154e-01, -3.08531049e-01],\n",
       "       [-2.00000000e+00,  3.84615385e-01,  3.23536617e+00],\n",
       "       [ 0.00000000e+00,  0.00000000e+00, -2.88188437e-01],\n",
       "       [ 0.00000000e+00,  0.00000000e+00,  4.71627409e-01],\n",
       "       [ 0.00000000e+00, -2.00000000e+00,  2.83546039e-01],\n",
       "       [-1.00000000e+00, -2.30769231e-01,  6.65773019e-01],\n",
       "       [-2.00000000e+00,  1.76923077e+00,  2.00963597e+00],\n",
       "       [-1.00000000e+00, -2.30769231e-01,  4.94466809e-01],\n",
       "       [ 0.00000000e+00,  0.00000000e+00, -3.08531049e-01],\n",
       "       [ 0.00000000e+00,  0.00000000e+00, -2.80873662e-01],\n",
       "       [-1.00000000e+00, -3.07692308e-01, -6.22783726e-02],\n",
       "       [ 0.00000000e+00, -7.69230769e-01,  2.46608137e-01],\n",
       "       [-2.00000000e+00,  0.00000000e+00,  6.87186296e-01],\n",
       "       [ 0.00000000e+00, -2.30769231e-01, -3.17096360e-01],\n",
       "       [-1.00000000e+00, -3.07692308e-01,  1.96145610e-03],\n",
       "       [ 0.00000000e+00, -4.61538462e-01, -2.96933619e-01],\n",
       "       [-2.00000000e+00, -2.08307692e+00,  5.87134047e+00],\n",
       "       [-1.00000000e+00, -3.07692308e-01,  4.94466809e-01],\n",
       "       [ 0.00000000e+00, -1.53846154e-01, -2.79623126e-01],\n",
       "       [-1.00000000e+00,  4.61538462e-01,  2.80334047e-01],\n",
       "       [-2.00000000e+00, -5.38461538e-01,  1.06175931e+01],\n",
       "       [ 0.00000000e+00,  0.00000000e+00, -2.87117773e-01],\n",
       "       [ 0.00000000e+00,  0.00000000e+00, -3.09421842e-01],\n",
       "       [ 0.00000000e+00,  0.00000000e+00, -2.48038544e-01],\n",
       "       [ 0.00000000e+00, -4.61538462e-01, -2.86047109e-01],\n",
       "       [-2.00000000e+00,  2.61538462e+00,  2.80710064e+00],\n",
       "       [ 0.00000000e+00, -7.69230769e-01, -1.97537473e-01],\n",
       "       [-2.00000000e+00,  1.07692308e+00,  9.12508779e+00],\n",
       "       [-1.00000000e+00,  2.23076923e+00, -9.01156317e-02],\n",
       "       [ 0.00000000e+00, -6.92307692e-01, -6.19023555e-01],\n",
       "       [-1.00000000e+00,  1.07692308e+00,  4.94466809e-01],\n",
       "       [ 0.00000000e+00,  0.00000000e+00, -3.09601713e-01],\n",
       "       [ 0.00000000e+00, -6.15384615e-01, -2.48038544e-01],\n",
       "       [ 0.00000000e+00,  5.00000000e-01, -3.43327623e-01],\n",
       "       [ 0.00000000e+00,  0.00000000e+00, -2.12171306e-01],\n",
       "       [ 0.00000000e+00,  0.00000000e+00, -2.74269807e-01],\n",
       "       [ 0.00000000e+00, -3.84615385e-01, -2.80873662e-01],\n",
       "       [ 0.00000000e+00, -4.61538462e-01, -3.08531049e-01],\n",
       "       [-2.00000000e+00,  1.84615385e+00,  6.87186296e-01],\n",
       "       [ 0.00000000e+00,  1.53846154e-01, -8.47623126e-02],\n",
       "       [-1.00000000e+00,  6.53846154e-01,  4.94466809e-01],\n",
       "       [ 0.00000000e+00,  0.00000000e+00, -2.87117773e-01],\n",
       "       [ 0.00000000e+00, -4.61538462e-01, -3.09421842e-01],\n",
       "       [-2.00000000e+00,  1.69230769e+00,  5.10474518e+00],\n",
       "       [ 0.00000000e+00, -7.69230769e-02, -3.20308351e-01],\n",
       "       [ 0.00000000e+00, -4.61538462e-01, -2.74269807e-01],\n",
       "       [-2.00000000e+00,  1.76923077e+00,  2.71966167e+00],\n",
       "       [-1.00000000e+00,  6.15384615e-01, -1.69344754e-01],\n",
       "       [-1.00000000e+00,  7.69230769e-02,  4.94466809e-01],\n",
       "       [-2.00000000e+00, -4.61538462e-01,  5.87134047e+00],\n",
       "       [-2.00000000e+00,  1.69230769e+00,  3.93879229e+00],\n",
       "       [-1.00000000e+00,  9.23076923e-01, -6.22783726e-02],\n",
       "       [ 0.00000000e+00, -7.69230769e-02, -2.48038544e-01],\n",
       "       [-2.00000000e+00,  0.00000000e+00, -6.19023555e-01],\n",
       "       [-2.00000000e+00,  2.84615385e+00,  5.18021413e-01],\n",
       "       [ 0.00000000e+00, -8.46153846e-01, -2.48038544e-01],\n",
       "       [-2.00000000e+00,  0.00000000e+00,  5.18021413e-01],\n",
       "       [-2.00000000e+00, -1.84615385e+00,  2.88668522e+00],\n",
       "       [ 0.00000000e+00,  0.00000000e+00, -2.80873662e-01],\n",
       "       [ 0.00000000e+00, -2.07692308e+00, -1.42222698e-01],\n",
       "       [-1.00000000e+00,  6.15384615e-01,  5.69413276e-01],\n",
       "       [-1.00000000e+00,  1.15384615e+00,  5.05173448e-01],\n",
       "       [-2.00000000e+00,  7.69230769e-01,  5.95324625e+00],\n",
       "       [-1.00000000e+00,  2.30769231e-01,  5.05173448e-01],\n",
       "       [ 0.00000000e+00,  7.69230769e-02, -2.74269807e-01],\n",
       "       [ 0.00000000e+00, -7.69230769e-01, -2.63563169e-01],\n",
       "       [-1.00000000e+00,  0.00000000e+00,  2.55160600e-02],\n",
       "       [-2.00000000e+00,  8.46153846e-01,  4.12972591e+00],\n",
       "       [-1.00000000e+00,  8.46153846e-01, -6.22783726e-02],\n",
       "       [ 0.00000000e+00, -1.53846154e-01, -2.48038544e-01],\n",
       "       [ 0.00000000e+00, -6.15384615e-01, -3.17096360e-01],\n",
       "       [-2.00000000e+00,  0.00000000e+00,  5.10474518e+00],\n",
       "       [ 0.00000000e+00,  1.61538462e+00, -6.19023555e-01],\n",
       "       [-1.00000000e+00, -3.84615385e-01,  2.53361884e-02],\n",
       "       [ 0.00000000e+00, -2.07692308e+00,  1.08065525e+00],\n",
       "       [ 0.00000000e+00,  0.00000000e+00, -2.81584582e-01],\n",
       "       [ 0.00000000e+00,  0.00000000e+00,  3.85259101e-01],\n",
       "       [-1.00000000e+00, -1.92307692e+00,  4.94466809e-01],\n",
       "       [ 0.00000000e+00, -1.84615385e+00, -1.42222698e-01],\n",
       "       [ 0.00000000e+00, -6.92307692e-01, -2.91400428e-01],\n",
       "       [ 0.00000000e+00,  9.61538462e-01, -2.87117773e-01],\n",
       "       [ 0.00000000e+00, -2.07692308e+00,  5.51391863e-02],\n",
       "       [ 0.00000000e+00,  0.00000000e+00,  3.39014989e-02],\n",
       "       [ 0.00000000e+00, -5.38461538e-01, -2.79623126e-01]])"
      ]
     },
     "execution_count": 36,
     "metadata": {},
     "output_type": "execute_result"
    }
   ],
   "source": [
    "x_test_robust = scaler.transform(x_test) \n",
    "x_test_robust"
   ]
  },
  {
   "cell_type": "markdown",
   "id": "f41812a1",
   "metadata": {},
   "source": [
    "### Algorithm starts :"
   ]
  },
  {
   "cell_type": "code",
   "execution_count": 37,
   "id": "dfb18b59",
   "metadata": {},
   "outputs": [],
   "source": [
    "from sklearn.linear_model import LogisticRegression\n",
    "classification = LogisticRegression()"
   ]
  },
  {
   "cell_type": "code",
   "execution_count": 39,
   "id": "606fc489",
   "metadata": {},
   "outputs": [
    {
     "data": {
      "text/plain": [
       "LogisticRegression()"
      ]
     },
     "execution_count": 39,
     "metadata": {},
     "output_type": "execute_result"
    }
   ],
   "source": [
    "classification.fit(x_train_robust,y_train)"
   ]
  },
  {
   "cell_type": "code",
   "execution_count": 41,
   "id": "239a1030",
   "metadata": {},
   "outputs": [
    {
     "data": {
      "text/plain": [
       "array([0, 0, 0, 1, 0, 1, 0, 0, 0, 1, 1, 0, 0, 0, 0, 1, 1, 0, 0, 1, 0, 1,\n",
       "       0, 0, 0, 0, 1, 0, 0, 0, 0, 0, 1, 0, 0, 0, 1, 0, 1, 0, 1, 0, 0, 0,\n",
       "       0, 0, 0, 0, 0, 1, 0, 1, 0, 1, 0, 1, 0, 1, 0, 0, 0, 1, 0, 1, 0, 0,\n",
       "       1, 0, 0, 1, 0, 1, 1, 1, 0, 0, 0, 1, 0, 0, 0, 0, 1, 0, 0, 0, 1, 1,\n",
       "       1, 0, 0, 0, 0, 0, 0, 0, 1, 0, 0, 0, 0, 0, 1, 0, 0, 0, 0, 1, 0, 1,\n",
       "       1, 0, 1, 1, 1, 0, 0, 0, 0, 0, 0, 1, 0, 1, 0, 1, 0, 1, 0, 0, 0, 0,\n",
       "       0, 0, 1, 0, 1, 0, 0, 0, 0, 0, 0, 0, 0, 0, 0, 0, 1, 0, 0, 0, 0, 0,\n",
       "       0, 0, 0, 0, 0, 0, 0, 1, 0, 1, 0, 0, 0, 1, 0, 0, 1, 0, 1, 0, 0, 0,\n",
       "       0, 0, 0, 1, 0, 0, 0, 0, 1, 1, 0, 0, 1, 0, 0, 0, 0, 0, 0, 1, 1, 0,\n",
       "       1, 0, 0, 0, 1, 0, 0, 0, 0, 1, 0, 0, 1, 0, 1, 0, 0, 0, 0, 1, 0, 0,\n",
       "       0, 0, 0, 1, 0, 0, 0, 1, 0, 0, 0, 1, 0, 0, 0, 0, 0, 0, 1, 0, 0, 0,\n",
       "       0, 0, 0, 0, 0, 0, 0, 0, 0, 0, 0, 0, 1, 0, 0, 1, 0, 0, 1, 1, 0, 0,\n",
       "       1, 0, 0, 1, 1, 0, 0, 0, 0, 1, 0, 0, 0, 0, 1, 0, 0, 0, 1, 0, 0, 0,\n",
       "       0, 0, 1, 0, 0, 0, 0, 0, 0], dtype=int64)"
      ]
     },
     "execution_count": 41,
     "metadata": {},
     "output_type": "execute_result"
    }
   ],
   "source": [
    "predict =classification.predict(x_test_robust) # Machine prediction on testing data\n",
    "predict"
   ]
  },
  {
   "cell_type": "code",
   "execution_count": 42,
   "id": "c47eafbf",
   "metadata": {},
   "outputs": [
    {
     "name": "stdout",
     "output_type": "stream",
     "text": [
      "              precision    recall  f1-score   support\n",
      "\n",
      "           0       0.89      0.71      0.79       218\n",
      "           1       0.47      0.74      0.58        77\n",
      "\n",
      "    accuracy                           0.72       295\n",
      "   macro avg       0.68      0.73      0.68       295\n",
      "weighted avg       0.78      0.72      0.73       295\n",
      "\n"
     ]
    }
   ],
   "source": [
    "#Printing the classification report\n",
    "\n",
    "from sklearn import metrics\n",
    "print(metrics.classification_report(predict,y_test))"
   ]
  },
  {
   "cell_type": "code",
   "execution_count": null,
   "id": "f990edaa",
   "metadata": {},
   "outputs": [],
   "source": []
  }
 ],
 "metadata": {
  "kernelspec": {
   "display_name": "Python 3",
   "language": "python",
   "name": "python3"
  },
  "language_info": {
   "codemirror_mode": {
    "name": "ipython",
    "version": 3
   },
   "file_extension": ".py",
   "mimetype": "text/x-python",
   "name": "python",
   "nbconvert_exporter": "python",
   "pygments_lexer": "ipython3",
   "version": "3.8.8"
  }
 },
 "nbformat": 4,
 "nbformat_minor": 5
}
